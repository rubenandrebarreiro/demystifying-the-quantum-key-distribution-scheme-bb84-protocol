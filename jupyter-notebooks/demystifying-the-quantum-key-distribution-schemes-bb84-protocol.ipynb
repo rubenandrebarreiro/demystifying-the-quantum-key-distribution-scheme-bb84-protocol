{
 "cells": [
  {
   "cell_type": "markdown",
   "metadata": {
    "slideshow": {
     "slide_type": "slide"
    }
   },
   "source": [
    "##### Demystifying <br> the Quantum Key Distribution Schemes\n",
    "### BB84 Protocol\n",
    "\n",
    "![Cover Banner Logo](imgs/bin/JPGs/others/cover-banner-logo.jpg)"
   ]
  },
  {
   "cell_type": "markdown",
   "metadata": {
    "slideshow": {
     "slide_type": "slide"
    }
   },
   "source": [
    "#### Author\n",
    "\n",
    "* [**_Rúben André Letra Barreiro_**](https://rubenandrebarreiro.github.io/) <br> **_Student no. 42648_** <br> [**_r.barreiro@campus.fct.unl.pt_**](mailto:r.barreiro@campus.fct.unl.pt)"
   ]
  },
  {
   "cell_type": "markdown",
   "metadata": {
    "slideshow": {
     "slide_type": "subslide"
    }
   },
   "source": [
    "#### From\n",
    "\n",
    "* [**_Integrated Master (BSc. + MSc.) of_**](https://www.fct.unl.pt/en/education/course/integrated-master-computer-science) <br> [**_Computer Science and Engineering_**](https://www.fct.unl.pt/en/education/course/integrated-master-computer-science) <br> [**_Faculty of Sciences and Technology_**](https://www.fct.unl.pt/en) **_of_** [**_New University of Lisbon_**](https://www.unl.pt/en) <br> [**_(FCT NOVA | FCT/UNL)_**](https://www.fct.unl.pt/en), <br> **_Almada/Lisbon, Portugal_**"
   ]
  },
  {
   "cell_type": "markdown",
   "metadata": {
    "slideshow": {
     "slide_type": "subslide"
    }
   },
   "source": [
    "#### About Me\n",
    "\n",
    "<center>\n",
    "    <img src=\"imgs/bin/PNGs/photos/protrait-photo-rounded.png\" alt=\"My Protrait Photo (Rounded)\" width=300px>\n",
    "</center>\n",
    "\n",
    "* I am a **_passionate_**, **_enthusiastic_**, **_dedicated_** and **_hard work student_**."
   ]
  },
  {
   "cell_type": "markdown",
   "metadata": {
    "slideshow": {
     "slide_type": "subslide"
    }
   },
   "source": [
    "#### About Me\n",
    "\n",
    "<center>\n",
    "    <img src=\"imgs/bin/PNGs/photos/protrait-photo-rounded.png\" alt=\"My Protrait Photo (Rounded)\" width=300px>\n",
    "</center>\n",
    "\n",
    "* I am currently in the 4th year of the [**_Integrated Master (BSc. + MSc) of Computer Science and Engineering_**](https://www.fct.unl.pt/en/education/course/integrated-master-computer-science)."
   ]
  },
  {
   "cell_type": "markdown",
   "metadata": {
    "slideshow": {
     "slide_type": "subslide"
    }
   },
   "source": [
    "#### About Me\n",
    "\n",
    "<center>\n",
    "    <img src=\"imgs/bin/PNGs/photos/protrait-photo-rounded.png\" alt=\"My Protrait Photo (Rounded)\" width=300px>\n",
    "</center>\n",
    "\n",
    "* I am a student from [**_Faculty of Sciences and Technology_**](https://www.fct.unl.pt/en) of [**_New University of Lisbon_**](https://www.unl.pt/en) [**_(FCT NOVA | FCT/UNL)_**](https://www.fct.unl.pt/en), in **Portugal**."
   ]
  },
  {
   "cell_type": "markdown",
   "metadata": {
    "slideshow": {
     "slide_type": "slide"
    }
   },
   "source": [
    "#### _Definition of Quantum_\n",
    "\n",
    "* The **_Quantum_** it’s the **_smallest value_**, **_quantity_** *or* **_amount_**, which a ***Physics***’/***Mechanics***’ **_entity_**/**_property_** *can represent*."
   ]
  },
  {
   "cell_type": "markdown",
   "metadata": {
    "slideshow": {
     "slide_type": "subslide"
    }
   },
   "source": [
    "#### _Definition of Quantum_\n",
    "\n",
    "* This behaviours are represented in ***Physics***’/***Mechanics***’ *magnitudes*/*scales*, **_acting_** *and* **_operating_** *on the following* **_microscopic_** *levels*: <br> <br>\n",
    "\n",
    "    * **_Atomic_**:\n",
    "        * In the ***Physics***'/***Mechanics***' *magnitudes*/*scales* of the **_atoms_**;"
   ]
  },
  {
   "cell_type": "markdown",
   "metadata": {
    "slideshow": {
     "slide_type": "subslide"
    }
   },
   "source": [
    "#### _Definition of Quantum_\n",
    "\n",
    "* This behaviours are represented in ***Physics***’/***Mechanics***’ *magnitudes*/*scales*, **_acting_** *and* **_operating_** *on the following* **_microscopic_** *levels*: <br> <br>\n",
    "\n",
    "    * **_Subatomic_**:\n",
    "        * In the ***Physics***’/***Mechanics***’ *magnitudes*/*scales* where the *behaviours* of the **_particles_** occur (e.g., **_electrons_**, **_protons_** and **_protons_**) and the possible *connections* and *interactions* between **_atoms_** (e.g., **_atoms_** *bounded and grouped together*, *in blocks*, *forming* **_molecules_**);"
   ]
  },
  {
   "cell_type": "markdown",
   "metadata": {
    "slideshow": {
     "slide_type": "subslide"
    }
   },
   "source": [
    "#### _Definition of Quantum_\n",
    "\n",
    "* This notation *started to be commonly used* in ***Physics***’/***Mechanics***’, since 1990, when ***Max Planck*** *presented his research work* on **_Black-body Radiation_** (i.e., **_Thermal Radiation_**)."
   ]
  },
  {
   "cell_type": "markdown",
   "metadata": {
    "slideshow": {
     "slide_type": "subslide"
    }
   },
   "source": [
    "#### _Definition of Quantum_\n",
    "\n",
    "* Thus, for that reason, the smallest known magnitude/scale is the **_Planck's Scale_** or **_Planck's Length_**, being *equal to the length of*: <br> <br>\n",
    "    \n",
    "    * $ 1.616199 \\times 10^{35} meters $"
   ]
  },
  {
   "cell_type": "markdown",
   "metadata": {
    "slideshow": {
     "slide_type": "slide"
    }
   },
   "source": [
    "#### _What is the Quantum Physics/Mechanics?_\n",
    "\n",
    "* The **_Quantum Physics_**/**_Mechanics_** is a fundamental theory in **_physics_** and **_mechanics_**, *which describes the* **_nature_**, *at the previously shown and explained magnitudes/scales*."
   ]
  },
  {
   "cell_type": "markdown",
   "metadata": {
    "slideshow": {
     "slide_type": "subslide"
    }
   },
   "source": [
    "#### _What is the Quantum Physics/Mechanics?_\n",
    "\n",
    "* Although, in the most of cases, the **_Quantum Physics/Mechanics_** are *relevant for describing* **_microscopic systems_**, but *their specific effects are not only noticeable on such a scale*."
   ]
  },
  {
   "cell_type": "markdown",
   "metadata": {
    "slideshow": {
     "slide_type": "subslide"
    }
   },
   "source": [
    "#### _What is the Quantum Physics/Mechanics?_\n",
    "\n",
    "* The **_Quantum Physics/Mechanics_** *provides accurate descriptions for many previously unexplained phenomenons as* **_Black-body Radiation_** and **_Stable Electron's Orbits_**."
   ]
  },
  {
   "cell_type": "markdown",
   "metadata": {
    "slideshow": {
     "slide_type": "subslide"
    }
   },
   "source": [
    "#### _What is the Quantum Physics/Mechanics?_\n",
    "\n",
    "* It's *considered by many experts and specialists*, the *best existing theory allowing the study of the* **_nature_** *itself and all its behaviours*."
   ]
  },
  {
   "cell_type": "markdown",
   "metadata": {
    "slideshow": {
     "slide_type": "slide"
    }
   },
   "source": [
    "#### _What is the Quantization?_\n",
    "\n",
    "* The **_Quantization_** is _the process of transition_ from a **_classical_** *understanding of physical phenomena*, to a *new understanding*, known as **_Quantum Physics/Mechanics_**."
   ]
  },
  {
   "cell_type": "markdown",
   "metadata": {
    "slideshow": {
     "slide_type": "subslide"
    }
   },
   "source": [
    "#### _What is the Quantization?_\n",
    "\n",
    "* This _new process_ was one of the _several processes and aspects_ responsible for the naming of **_Quantum Physics/Mechanics_**, *being one of its broadest foundations*."
   ]
  },
  {
   "cell_type": "markdown",
   "metadata": {
    "slideshow": {
     "slide_type": "subslide"
    }
   },
   "source": [
    "#### _What is the Quantization?_\n",
    "\n",
    "* In this context, something is said to be **_quantized_**, _if it only takes on_ **_definite values_**, *and no other value*, *between those definite values*."
   ]
  },
  {
   "cell_type": "markdown",
   "metadata": {
    "slideshow": {
     "slide_type": "subslide"
    }
   },
   "source": [
    "#### _What is the Quantization?_\n",
    "\n",
    "* **_Quantum Physics/Mechanics_** assume that **_the smallest value, quantity or amount of energy_**, in any **_Quantum System_** is **_quantized_** (i.e., *can only take on certain values*)."
   ]
  },
  {
   "cell_type": "markdown",
   "metadata": {
    "slideshow": {
     "slide_type": "subslide"
    }
   },
   "source": [
    "#### _What is the Quantization?_\n",
    "\n",
    "* The fundamental notion of a ***Physics***’/***Mechanics***’ *entity/property* which can be **_quantized_**, it’s referred as the **_Hypothesis of Quantization_**."
   ]
  },
  {
   "cell_type": "markdown",
   "metadata": {
    "slideshow": {
     "slide_type": "subslide"
    }
   },
   "source": [
    "#### _What is the Quantization?_\n",
    "\n",
    "* This hypothesis means that, the _magnitude/scale_ of a **_Physics’/Mechanics’_** *entity/property can* **_only_** *assume* **_discrete values_**, which consist in _integer numbers multiples_ of a **_Quantum_**."
   ]
  },
  {
   "cell_type": "markdown",
   "metadata": {
    "slideshow": {
     "slide_type": "slide"
    }
   },
   "source": [
    "#### _What is an Atom?_\n",
    "\n",
    "* An **_Atom_** it’s the *smallest unit containing common matter*, which contains a *chemical element* and **_cannot be broken down_** *by any chemical mean*."
   ]
  },
  {
   "cell_type": "markdown",
   "metadata": {
    "slideshow": {
     "slide_type": "subslide"
    }
   },
   "source": [
    "#### _What is an Atom?_\n",
    "\n",
    "* The **_Atom_** it’s composed by **_subatomic particles_** (as **_Protons_**, **_Electrons_** and **_Neutrons_**)."
   ]
  },
  {
   "cell_type": "markdown",
   "metadata": {
    "slideshow": {
     "slide_type": "subslide"
    }
   },
   "source": [
    "#### _What is an Atom?_\n",
    "\n",
    "* All the **_objects_** in the *solid*, *liquid*, *gaseous* and of *plasma* are composed of *neutral* or *ionized* **_Atoms_**."
   ]
  },
  {
   "cell_type": "markdown",
   "metadata": {
    "slideshow": {
     "slide_type": "subslide"
    }
   },
   "source": [
    "#### _What is an Atom?_\n",
    "\n",
    "* The **_Atoms_** are *extremely small*, *having typical sizes in the range of* $ 100 $ $ picometers $ ($ 10^{-10} $ $ meters $, i.e., $ 10^{-7} $ $ millimeters $, or even, $ \\frac{1}{254,000,000} $ $ inches $)."
   ]
  },
  {
   "cell_type": "markdown",
   "metadata": {
    "slideshow": {
     "slide_type": "subslide"
    }
   },
   "source": [
    "#### _What is an Atom?_\n",
    "\n",
    "* In fact, it’s for that reason, why it’s **_not possible_** to *predict precisely its behaviour*, using the **_Classical Physics/Mechanics_**."
   ]
  },
  {
   "cell_type": "markdown",
   "metadata": {
    "slideshow": {
     "slide_type": "subslide"
    }
   },
   "source": [
    "#### _What is an Atom?_\n",
    "\n",
    "* This happen due to the **_Quantum Effects_**, making the current **_Atomic Models_** use **_Quantum Principles_** now, *to explain and predict better that behaviours*."
   ]
  },
  {
   "cell_type": "markdown",
   "metadata": {
    "slideshow": {
     "slide_type": "subslide"
    }
   },
   "source": [
    "#### _What is an Atom?_\n",
    "\n",
    "* The _total number of_ **_Atoms_** *in the entire Universe it’s estimated in a range between* $ 4 \\times 10^{78} $ and $ 6 \\times 10^{79} $."
   ]
  },
  {
   "cell_type": "markdown",
   "metadata": {
    "slideshow": {
     "slide_type": "subslide"
    }
   },
   "source": [
    "#### _What is an Atom?_\n",
    "\n",
    "* You can see a simple **_3D Representation of the Atom_** _with_ **_4 States_** _and_ **_Orbits_**, _in the following_ [**_Live Code Preview_**](https://codesandbox.io/embed/github/rubenandrebarreiro/3d-object-modelling-atom-representation/tree/master/code-sandbox/), _provided by_ [**_Code SandBox_**](https://codesandbox.io/)..."
   ]
  },
  {
   "cell_type": "code",
   "execution_count": 1,
   "metadata": {
    "slideshow": {
     "slide_type": "subslide"
    }
   },
   "outputs": [
    {
     "data": {
      "text/html": [
       "\n",
       "        <iframe\n",
       "            width=\"980\"\n",
       "            height=\"880\"\n",
       "            src=\"https://codesandbox.io/embed/github/rubenandrebarreiro/3d-object-modelling-atom-representation/tree/master/code-sandbox?autoresize=1&amp;codemirror=1&amp;eslint=1&amp;fontsize=8&amp;hidenavigation=1&amp;moduleview=1&amp;theme=dark&amp;view=preview\"\n",
       "            frameborder=\"0\"\n",
       "            allowfullscreen\n",
       "        ></iframe>\n",
       "        "
      ],
      "text/plain": [
       "<IPython.lib.display.IFrame at 0x1ec59d7d910>"
      ]
     },
     "execution_count": 1,
     "metadata": {},
     "output_type": "execute_result"
    }
   ],
   "source": [
    "from IPython.display import IFrame\n",
    "IFrame('https://codesandbox.io/embed/github/rubenandrebarreiro/3d-object-modelling-atom-representation/tree/master/code-sandbox?autoresize=1&amp;codemirror=1&amp;eslint=1&amp;fontsize=8&amp;hidenavigation=1&amp;moduleview=1&amp;theme=dark&amp;view=preview', width = 980, height = 880)"
   ]
  },
  {
   "cell_type": "markdown",
   "metadata": {
    "slideshow": {
     "slide_type": "slide"
    }
   },
   "source": [
    "#### _The Components of an Atom_\n",
    "\n",
    "* The _building blocks_ of **_Atoms_** _are positively charged_ **_Protons_** *(+)*, _neutral_ **_Neutrons_** *(N)* and _negatively charged_ **_Electrons_** *(-)*."
   ]
  },
  {
   "cell_type": "markdown",
   "metadata": {
    "slideshow": {
     "slide_type": "subslide"
    }
   },
   "source": [
    "#### _The Components of an Atom_\n",
    "\n",
    "* The **_Protons_** and **_Neutrons_** *are very similar in mass*, while **_Electrons_** *are much smaller and lighter*."
   ]
  },
  {
   "cell_type": "markdown",
   "metadata": {
    "slideshow": {
     "slide_type": "subslide"
    }
   },
   "source": [
    "#### _The Components of an Atom_\n",
    "\n",
    "* Many **_Atoms_** _consist of a positively charged_ **_Nucleus_** composed of **_Protons_** and **_Neutrons_**, _surrounded by a negatively charged \"cloud\" of_ **_Electrons_**."
   ]
  },
  {
   "cell_type": "markdown",
   "metadata": {
    "slideshow": {
     "slide_type": "subslide"
    }
   },
   "source": [
    "#### _The Components of an Atom_\n",
    "\n",
    "* At its most basic level, an **_Atom_** _is any_ **_Particle_** *of matter containing*, *at least*, _one_ **_Proton_** (which, it’s the case of the **_Hydrogen Atom_**)."
   ]
  },
  {
   "cell_type": "markdown",
   "metadata": {
    "slideshow": {
     "slide_type": "subslide"
    }
   },
   "source": [
    "#### _The Components of an Atom_\n",
    "\n",
    "* Some **_Electrons_** and **_Neutrons_** may be present, but **_aren’t required_**!!!"
   ]
  },
  {
   "cell_type": "markdown",
   "metadata": {
    "slideshow": {
     "slide_type": "subslide"
    }
   },
   "source": [
    "#### _The Components of an Atom_\n",
    "\n",
    "* The _calculation of the number of_ **_Atomic Particles_** *is used to indicate the number or amount of*:\n",
    "\n",
    "    * **_Protons_**, presented in the **_Nucleus_**;"
   ]
  },
  {
   "cell_type": "markdown",
   "metadata": {
    "slideshow": {
     "slide_type": "subslide"
    }
   },
   "source": [
    "#### _The Components of an Atom_\n",
    "\n",
    "* The _calculation of the number of_ **_Atomic Particles_** *is used to indicate the number or amount of*:\n",
    "\n",
    "    * **_Electrons_**, presented in the **_Electrosphere_**;"
   ]
  },
  {
   "cell_type": "markdown",
   "metadata": {
    "slideshow": {
     "slide_type": "subslide"
    }
   },
   "source": [
    "#### _The Components of an Atom_\n",
    "\n",
    "* The _calculation of the number of_ **_Atomic Particles_** *is used to indicate the number or amount of*:\n",
    "\n",
    "    * **_Neutrons_**, presented in the **_Nucleus_**;"
   ]
  },
  {
   "cell_type": "markdown",
   "metadata": {
    "slideshow": {
     "slide_type": "subslide"
    }
   },
   "source": [
    "#### _The Components of an Atom_\n",
    "\n",
    "* The **_Electrons_**, _in the_ **_Electrosphere_** _are orbiting around the_ **_Protons_** and **_Electrons_**, in the **_Nucleus_** (_as demonstrated visually by the_ **_Bohr’s Model_**)."
   ]
  },
  {
   "cell_type": "markdown",
   "metadata": {
    "slideshow": {
     "slide_type": "slide"
    }
   },
   "source": [
    "#### _The BB84 Protocol - Introduction_\n",
    "\n",
    "* The **_BB84 Protocol_** is a **_Quantum Key Distribution Scheme_**, developed by **_Charles Bennett_** and **_Gilles Brassard_**, in **_1984_**."
   ]
  },
  {
   "cell_type": "markdown",
   "metadata": {
    "slideshow": {
     "slide_type": "subslide"
    }
   },
   "source": [
    "#### _The BB84 Protocol - Introduction_\n",
    "\n",
    "* *It is* **_one of the best known_** *(or maybe,* ***the best known***_)_ **_Quantum Key Distribution Scheme_** *and it is very used as an introduction for the* **_Quantum Cryptography_** *topic*."
   ]
  },
  {
   "cell_type": "markdown",
   "metadata": {
    "slideshow": {
     "slide_type": "subslide"
    }
   },
   "source": [
    "#### _The BB84 Protocol - Introduction_\n",
    "\n",
    "* The name of the **_BB84 Protocol_** is due to the _initials of its creators_ and the _year of its invention_ ( **_B_**_ennett_ , **_B_**_rassard_ , _19**84**_ )."
   ]
  },
  {
   "cell_type": "markdown",
   "metadata": {
    "slideshow": {
     "slide_type": "subslide"
    }
   },
   "source": [
    "#### _The BB84 Protocol - Introduction_\n",
    "\n",
    "* This protocol it was *designed* and *built*, *based on* (and *taking advantadge of*) some of the *principles* and *properties* of **_Quantum Physics_** and **_Quantum Mechanics_**."
   ]
  },
  {
   "cell_type": "markdown",
   "metadata": {
    "slideshow": {
     "slide_type": "subslide"
    }
   },
   "source": [
    "#### _The BB84 Protocol - Introduction_\n",
    "\n",
    "* The protocol is **_safe provable_**, *until the current days*, due to the property which says that *any attempt* to **_gain information_** *and* **_have access to it_**, *can* **_only_** *be made by a* **_Quantum Measurement of States_**."
   ]
  },
  {
   "cell_type": "markdown",
   "metadata": {
    "slideshow": {
     "slide_type": "subslide"
    }
   },
   "source": [
    "#### _The BB84 Protocol - Introduction_\n",
    "\n",
    "* Any **_Quantum Measurement_** of a **_Quantum System_** *makes it* **_collapse_** *as a whole*, *resulting in a* **_deterministic_** *and* **_irreversible_** **_Classical State_**."
   ]
  },
  {
   "cell_type": "markdown",
   "metadata": {
    "slideshow": {
     "slide_type": "subslide"
    }
   },
   "source": [
    "#### _The BB84 Protocol - Introduction_\n",
    "\n",
    "* In other words, a **_Quantum Measurement of States_**, in this case, is **_only possible_** *at the expense of* **_disturbing the signal_**, *if the* **_two states_** *being attempted to distinguish* **_are not orthogonal (90º)_**, *during the* **_Secret Key transmission_**."
   ]
  },
  {
   "cell_type": "markdown",
   "metadata": {
    "slideshow": {
     "slide_type": "subslide"
    }
   },
   "source": [
    "#### _The BB84 Protocol - Introduction_\n",
    "\n",
    "* And, it is worthy to remember that *any attempt of do a completely* **_perfect copy_** *of some value of the* **_Secret Key_** *being transmitted it is also* **_not possible_**, *due to the* **_No Cloning Theorem_**, *which argues that an arbitrary* **_Quantum State_** *could not be copied faithfull*y."
   ]
  },
  {
   "cell_type": "markdown",
   "metadata": {
    "slideshow": {
     "slide_type": "subslide"
    }
   },
   "source": [
    "#### _The BB84 Protocol - Introduction_\n",
    "\n",
    "* More precisely, the protocol can be seen as a **_\"Half\" or \"Quasi\" Quantum Key Distribution Scheme_** because it uses both, a **_Quantum Communication Channel_** and a **_Classical Communication Channel_**."
   ]
  },
  {
   "cell_type": "markdown",
   "metadata": {
    "slideshow": {
     "slide_type": "subslide"
    }
   },
   "source": [
    "#### _The BB84 Protocol - Introduction_\n",
    "\n",
    "* The *brief complete procedure of this protocol* it is done, mainly, in **_two big steps_**:\n",
    "    1. **_Distribution/Transmission of a Secret Key, using a Quantum Communication Channel_**;"
   ]
  },
  {
   "cell_type": "markdown",
   "metadata": {
    "slideshow": {
     "slide_type": "subslide"
    }
   },
   "source": [
    "#### _The BB84 Protocol - Introduction_\n",
    "\n",
    "* The *brief complete procedure of this protocol* it is done, mainly, in **_two big steps_**:\n",
    "    2. **_Exchange/Transmission of Private Messages, using a Classical Communication Channel and the Secret Key, previsouly distributed between the parties involved_**;"
   ]
  },
  {
   "cell_type": "markdown",
   "metadata": {
    "slideshow": {
     "slide_type": "subslide"
    }
   },
   "source": [
    "#### _The BB84 Protocol - Introduction_\n",
    "\n",
    "* This protocol it is explained as a *secure communication method*, *making usage of a* **_Secret Key_** *from a party (or **_client/user_**)* *to another party* *(or another **_client/user_**)* *for usage in an* **_OTP_** **_(One Time Pad) Encryption_**."
   ]
  },
  {
   "cell_type": "markdown",
   "metadata": {
    "slideshow": {
     "slide_type": "slide"
    }
   },
   "source": [
    "#### _The BB84 Protocol - A Quantum Key Distribution, during the COVID-19 quarantine/isolation_\n",
    "\n",
    "* In order to explain this **_Quantum Key Distribution Scheme_**, *I will tell a* **_very funny story_**!!!"
   ]
  },
  {
   "cell_type": "markdown",
   "metadata": {
    "slideshow": {
     "slide_type": "subslide"
    }
   },
   "source": [
    "#### _The BB84 Protocol - A Quantum Key Distribution, during the COVID-19 quarantine/isolation_\n",
    "\n",
    "* So, let's start by introducing the main actors/characters of the story..."
   ]
  },
  {
   "cell_type": "markdown",
   "metadata": {
    "slideshow": {
     "slide_type": "subslide"
    }
   },
   "source": [
    "#### _The BB84 Protocol - A Quantum Key Distribution, during the COVID-19 quarantine/isolation_\n",
    "\n",
    "<center>\n",
    "    <img src=\"imgs/bitmojis-snapchat/PNGs/ruben-barreiro-emoji-1.png\" alt=\"Rúben Barreiro - Emoji\" width=300px>\n",
    "</center>\n",
    "\n",
    "* **_Rúben Barreiro_**:\n",
    "    * *A very ethusiastic* **_Student_** *from* **_FCT NOVA_**, **_Almada/Lisbon_**, **_Portugal_**;\n",
    "    * *Is currently in a **_Quantum Quest_** for success*;\n",
    "    * *Loves* **_Cryptography_**, **_Quantum Computing_** *and* **_Quantum Technologies_**;\n",
    "    * *Always dreamed about travel to* **_Paris_**, **_France_**;"
   ]
  },
  {
   "cell_type": "markdown",
   "metadata": {
    "slideshow": {
     "slide_type": "subslide"
    }
   },
   "source": [
    "#### _The BB84 Protocol - A Quantum Key Distribution, during the COVID-19 quarantine/isolation_\n",
    "\n",
    "<center>\n",
    "    <img src=\"imgs/bitmojis-snapchat/PNGs/eleni-diamanti-looking-right-1.png\" alt=\"Eleni Diamanti - Looking Right\" width=300px>\n",
    "</center>\n",
    "\n",
    "* **_Eleni Diamanti_**:\n",
    "    * *A very kind* **_Professor_**, *teaching and lecturing at* **_Sorbonne Univerité_**, *in* **_Paris_**, **_France_**;\n",
    "    * *Works, as* **_Researcher_**, *at the* **_French National Centre for Scientific Research_**, *also in* **_Paris_**, **_France_**;\n",
    "    * *Met* **_Rúben_**, *in* **_Workshop of Quantum Computing_**, *at* **_Calouste Gulbenkian Foundation_**;\n",
    "    * *Also loves* **_Cryptography_**, **_Quantum Computing_** and **_Quantum Technologies_**;"
   ]
  },
  {
   "cell_type": "markdown",
   "metadata": {
    "slideshow": {
     "slide_type": "subslide"
    }
   },
   "source": [
    "#### _The BB84 Protocol - A Quantum Key Distribution, during the COVID-19 quarantine/isolation_\n",
    "\n",
    "<center>\n",
    "    <img src=\"imgs/bitmojis-snapchat/PNGs/isabel-oitavem-blink-1.png\" alt=\"Isabel Oitavém - Blink\" width=300px>\n",
    "</center>\n",
    "\n",
    "* **_Isabel Oitavém_**:\n",
    "    * *A very nice* **_Professor_**, *teaching and lecturing at* **_FCT NOVA_**, *in* **_Almada/Lisbon_**, **_Portugal_**;\n",
    "    * *Works*, *as* **_Researcher_**, *at the* **_Centre for Mathematics and Applications_**, *also in* **_Almada/Lisbon_**, **_Portugal_**;\n",
    "    * *Helped* **_Rúben_**, *during his* **_Quantum Quest_** *for success*;\n",
    "    * *Loves* **_Cryptography_** *and*, *is very curious about* **_Quantum Computing_** *and* **_Quantum Technologies_**;"
   ]
  },
  {
   "cell_type": "markdown",
   "metadata": {
    "slideshow": {
     "slide_type": "subslide"
    }
   },
   "source": [
    "#### _The BB84 Protocol - A Quantum Key Distribution, during the COVID-19 quarantine/isolation_\n",
    "\n",
    "<center>\n",
    "    <img src=\"imgs/bitmojis-snapchat/PNGs/jose-legatheaux-bored-1.png\" alt=\"José Legatheaux - Bored\" width=300px>\n",
    "</center>\n",
    "\n",
    "* **_José Legatheaux_**:\n",
    "    * *A very dummy* **_Professor_**, *teaching and lecturing at* **_FCT NOVA_**, *in* **_Almada/Lisbon_**, **_Portugal_**;\n",
    "    * *Works*, *as* **_Researcher_**, *at* **_NOVA-LINCS_**, *also in* **_Almada/Lisbon_**, **_Portugal_**;\n",
    "    * *Is a* **_very malicious agent_**, *who wants to harm* **_Rúben_**, *as much as possible*;\n",
    "    * *Is also known as the* **_\"Father of Classical Internet\"_**, *in* **_Portugal_** *and*, *he hates* **_Quantum Computing_**, **_Quantum Technologies_** *and*, *as obvious*... the **_Quantum Internet_**;"
   ]
  },
  {
   "cell_type": "markdown",
   "metadata": {
    "slideshow": {
     "slide_type": "subslide"
    }
   },
   "source": [
    "#### _The BB84 Protocol - A Quantum Key Distribution, during the COVID-19 quarantine/isolation_\n",
    "\n",
    "* *During the* **_quarantine/isolation_** *time*, *due to the* **_COVID-19 pandemic_**, *we were all obligated to* **_stay isolated_**, **_at home_** *and* **_away from our friends_**...\n",
    "* And, **_Eleni's birthday_** *was about to come and due to that* **_difficult times_**, *was* **_unable_** *to* **_organize her birthday party_**, *as usual*, *in other years*.\n",
    "* **_Eleni_** *started to be very* **_sad_** *and* **_depressed_**, *because she will* **_spend_** *her* **_birthday_** **_alone_**."
   ]
  },
  {
   "cell_type": "markdown",
   "metadata": {
    "slideshow": {
     "slide_type": "subslide"
    }
   },
   "source": [
    "#### _The BB84 Protocol - A Quantum Key Distribution, during the COVID-19 quarantine/isolation_\n",
    "\n",
    "* **_Rúben_** *was very* **_worried_** *about the* **_Eleni's state of spirit_** *and* **_wellfare_**...\n",
    "* *And because of that*, **_Rúben_** **_wanted a lot_** *to* **_put_** *a* **_smile_** *on* **_Eleni's face_**, *at least*, *for a while*.\n",
    "* **_Rúben_** *knew that* **_Eleni_** *started to* **_love_** *the* **_Portuguese customs_** *and* **_traditions_**, *during her* **_stay_**, *in* **_portuguese lands_**."
   ]
  },
  {
   "cell_type": "markdown",
   "metadata": {
    "slideshow": {
     "slide_type": "subslide"
    }
   },
   "source": [
    "#### _The BB84 Protocol - A Quantum Key Distribution, during the COVID-19 quarantine/isolation_\n",
    "\n",
    "* **_Rúben_** **_struggled a lot_** *to have some* **_brilliant idea_**, *in order to give a* **_special birthday's gift_** *to* **_Eleni_**, *some way*.\n",
    "* *Due to the* **_COVID-19 pandemic_**, **_Rúben_** *was also* **_unable_** *to* **_travel_** *to* **_Paris_**, *to met her*, *as expected*, *due to the lived moment*.\n",
    "* **_Rúben_** *remembered that* **_Eleni_** *always loved a* **_good bottle_** *of* **_red wine_**;"
   ]
  },
  {
   "cell_type": "markdown",
   "metadata": {
    "slideshow": {
     "slide_type": "subslide"
    }
   },
   "source": [
    "#### _The BB84 Protocol - A Quantum Key Distribution, during the COVID-19 quarantine/isolation_\n",
    "\n",
    "* *Then*, *suddently*, *there was* **_light_** *in the* **_Rúben's head_**...\n",
    "* **_Rúben_** *thought in* **_offer_** *a* **_red wine bottle_** *to* **_Eleni_**!!!\n",
    "* *And*, *which* **_better wine_** *than the* **_Porto's Wine_**, **the* **_best wine_** *in* **_Portugal_** *and even in the* **_World_**?!!"
   ]
  },
  {
   "cell_type": "markdown",
   "metadata": {
    "slideshow": {
     "slide_type": "subslide"
    }
   },
   "source": [
    "#### _The BB84 Protocol - A Quantum Key Distribution, during the COVID-19 quarantine/isolation_\n",
    "\n",
    "* *So*, **_Rúben_** **_decided_** *to* **_send to her_**, *a* **_Porto's Wine_** *bottle*, *by* **_mail_**.\n",
    "* *But a* **_sending mail_** *from* **_Portugal_** *to its destination*, *in* **_France_**, *it's still a* **_very turbulent shipping_** *and*, *even more*, *during a* **_COVID-19_** **_quarantine/isolation_**.\n",
    "* *Then*, *in order*, *to* **_protect_** *the* **_bottle_** *from it*, **_Rúben_** **_sent it_**, *inside a* **_safe_**."
   ]
  },
  {
   "cell_type": "markdown",
   "metadata": {
    "slideshow": {
     "slide_type": "subslide"
    }
   },
   "source": [
    "#### _The BB84 Protocol - A Quantum Key Distribution, during the COVID-19 quarantine/isolation_\n",
    "\n",
    "* *But*, *after* **_send it_**, **_Rúben_** *noticed he* **_forgot_** *about* **_send to her_**, *also*, *as an attachment*, *the* **_Secret Key_** *to* **_open it_**.\n",
    "* *Without the* **_Secret Key_**, **_Eleni_** *should* **_not_** *be able to* **_open_** *the* **_safe_**, *and get her so* **_desirable_** **_Porto's Wine_** *bottle*.\n",
    "* **_Rúben_**, **_mad with himself_**, *started to be* **_worried_** *and* **_stressed_** *about it*, *thinking on his huge* **_mistake_**."
   ]
  },
  {
   "cell_type": "markdown",
   "metadata": {
    "slideshow": {
     "slide_type": "subslide"
    }
   },
   "source": [
    "#### _The BB84 Protocol - A Quantum Key Distribution, during the COVID-19 quarantine/isolation_\n",
    "\n",
    "* *When* **_Eleni_** *received the* **_surprise gift_**, *inside the* **_safe_**, *noticed that it was missing the* **_Secret Key_** *to open it*...\n",
    "* **_Eleni_** *started to* **_cry_**, *desesperately*, *as the* **_World_** *it was* **_about to end_** *with* **_no idea_** *of what to do*...\n",
    "* *In order to* **_handle_** *with her* **_sadness_**, **_Eleni_** *started to* **_eat candies_** *and* **_watch TV Series_**, *as all* **_Women_** **_do_**, *when are* **_depressed_**."
   ]
  },
  {
   "cell_type": "markdown",
   "metadata": {
    "slideshow": {
     "slide_type": "subslide"
    }
   },
   "source": [
    "#### _The BB84 Protocol - A Quantum Key Distribution, during the COVID-19 quarantine/isolation_\n",
    "\n",
    "* *In that time*, **_Rúben_** *was having classes of his* **_Cryptography_** *course*, *with* **_Isabel_**.\n",
    "* **_Isabel_** *was a very* **_ethusiastic_** *about the* **_Cryptography_** *topic* *(such as* **_Rúben_** *was)*.\n",
    "* *As an expert in the topic*, **_Isabel_** *always* **_loved_** *to* **_teach_** *and* **_discuss_** *about* **_Secret Key Distribution_** *methods*."
   ]
  },
  {
   "cell_type": "markdown",
   "metadata": {
    "slideshow": {
     "slide_type": "subslide"
    }
   },
   "source": [
    "#### _The BB84 Protocol - A Quantum Key Distribution, during the COVID-19 quarantine/isolation_\n",
    "\n",
    "* **_Rúben_** *knew that*, *so decided to ask her for* **_help_**, *in order to* **_solve_** *his \"little\" problem*...\n",
    "* **_Isabel_**, *when she heard about all that* **_critical situation_**, **_decided_** *to* **_help_** *him*.\n",
    "* **_Rúben_** *told* **_Isabel_** *about a* **_Quantum Key Distribution Scheme_**, *called* **_BB84 Protocol_**, *which* **_Eleni_** **_teached_** *it to him*, *when they met*, *in* **_Lisbon_**."
   ]
  },
  {
   "cell_type": "markdown",
   "metadata": {
    "slideshow": {
     "slide_type": "subslide"
    }
   },
   "source": [
    "#### _The BB84 Protocol - A Quantum Key Distribution, during the COVID-19 quarantine/isolation_\n",
    "\n",
    "* *Thus*, *both* **_Rúben_** *and* **_Isabel_** *started to* **_discuss_** *and* **_plan_** *how to develop the* **_BB84 Protocol_**...\n",
    "* *They planned to use this* **_Quantum Key Distribution Scheme_**, *in order to* **_transmit_** *the* **_Secret Key_** *to* **_Eleni_**.\n",
    "* *At the end*, *they agreed that could be a very* **_hard_** *and* **_dangerous_** *proccess*, *which can result in a* **_great disaster_**, *but still* **_worth of trying_**..."
   ]
  },
  {
   "cell_type": "markdown",
   "metadata": {
    "slideshow": {
     "slide_type": "subslide"
    }
   },
   "source": [
    "#### _The BB84 Protocol - A Quantum Key Distribution, during the COVID-19 quarantine/isolation_\n",
    "\n",
    "* **_Legatheaux_**, *that* **_little old \"Niaiseux Arnaque Garçon Français\"_**, *already suspected about all their* **_plans_**!!!\n",
    "* *He was a* **_very bad intentioned person_**, *who also lived in* **_France_** *for many years*.\n",
    "* *So*, *he*, *who was* **_hating_** *all that* **_French romantic sense_** *around the* **_Rúben's plans_**, *started to think about* **_sabotage_** *them*."
   ]
  },
  {
   "cell_type": "markdown",
   "metadata": {
    "slideshow": {
     "slide_type": "slide"
    }
   },
   "source": [
    "#### _The BB84 Protocol - Explanation_\n",
    "\n",
    "* Now, let me explain briefly the procedure of the **_Quantum Key Distribution_** behind of the **_BB84 Protocol_**..."
   ]
  },
  {
   "cell_type": "markdown",
   "metadata": {
    "slideshow": {
     "slide_type": "subslide"
    }
   },
   "source": [
    "#### _The BB84 Protocol - Explanation_\n",
    "\n",
    "* In the **_BB84 Protocol_**, **_Rúben_** and **_Isabel_** want to send a **_Secret Key_** to **_Eleni_**.\n",
    "* Thus, both **_Rúben_** and **_Isabel_** *build two strings* (_\"phrases\"_ or *binary information sequence*), called $a$ and $b$, *each one of length* $n$."
   ]
  },
  {
   "cell_type": "markdown",
   "metadata": {
    "slideshow": {
     "slide_type": "subslide"
    }
   },
   "source": [
    "#### _The BB84 Protocol - Explanation_\n",
    "\n",
    "* Then, *they encode that* **_two strings of bits_** *as a* **_tensor product_** *of* $n$ **_qubits_**:\n",
    "    * $\\lvert \\Psi \\rangle = \\bigotimes_{i=1}^{n} \\lvert \\Psi_{a_{i}b_{i}} \\rangle $, where $a_{i}$ and $b_{i}$ are the $i^{th}$ bits of $a$ and $b$, respectively;"
   ]
  },
  {
   "cell_type": "markdown",
   "metadata": {
    "slideshow": {
     "slide_type": "subslide"
    }
   },
   "source": [
    "#### _The BB84 Protocol - Explanation_\n",
    "\n",
    "* In order to *obtain a* **_tensor product_** *between* **_two vectorial spaces_**, in this case, we have:<br><br>\n",
    "   * $a^{\\rightarrow} = \n",
    " \\begin{bmatrix}\n",
    "  a_{1} \\\\\n",
    "  a_{2} \\\\\n",
    "  ... \\\\\n",
    "  a_{n-1} \\\\\n",
    "  a_{n} \\\\\n",
    "  \\end{bmatrix}\n",
    "$;"
   ]
  },
  {
   "cell_type": "markdown",
   "metadata": {
    "slideshow": {
     "slide_type": "subslide"
    }
   },
   "source": [
    "#### _The BB84 Protocol - Explanation_\n",
    "\n",
    "* In order to *obtain a* **_tensor product_** *between* **_two vectorial spaces_**, in this case, we have:<br><br>\n",
    "   * $b^{\\rightarrow} = \n",
    " \\begin{bmatrix}\n",
    "  b_{1} \\\\\n",
    "  b_{2} \\\\\n",
    "  ... \\\\\n",
    "  b_{n-1} \\\\\n",
    "  b_{n} \\\\\n",
    "  \\end{bmatrix}\n",
    "$;"
   ]
  },
  {
   "cell_type": "markdown",
   "metadata": {
    "slideshow": {
     "slide_type": "subslide"
    }
   },
   "source": [
    "#### _The BB84 Protocol - Explanation_\n",
    "\n",
    "* In order to *obtain a* **_tensor product_** *between* **_two vectorial spaces_**, in this case, we have:<br><br>\n",
    "   * $a^{\\rightarrow}$ *is a* **_vectorial space_** *in* $\\mathbb{R}^{n}$;\n",
    "<br> <br>\n",
    "   * $b^{\\rightarrow}$ *is a* **_vectorial space_** *in* $\\mathbb{R}^{n}$;\n",
    "<br> <br>"
   ]
  },
  {
   "cell_type": "markdown",
   "metadata": {
    "slideshow": {
     "slide_type": "subslide"
    }
   },
   "source": [
    "#### _The BB84 Protocol - Explanation_\n",
    "\n",
    "* In order to *obtain a* **_tensor product_** *between* **_two vectorial spaces_**, in this case, we have:<br><br>\n",
    "   * $a^{\\rightarrow} \\bigotimes b^{\\rightarrow} = \n",
    " \\begin{bmatrix}\n",
    "  a_{1} \\times b_{1} \\\\\n",
    "  ... \\\\\n",
    "  a_{1} \\times b_{n} \\\\\n",
    "  ... \\\\\n",
    "  a_{n-m} \\times b_{n-m} \\\\\n",
    "  ... \\\\\n",
    "  a_{n} \\times b_{1} \\\\\n",
    "  ... \\\\\n",
    "  a_{n} \\times b_{n} \\\\\n",
    "  \\end{bmatrix}$, *with* $m \\in \\mathbb{R}$ *and* $1 < m < n$;"
   ]
  },
  {
   "cell_type": "markdown",
   "metadata": {
    "slideshow": {
     "slide_type": "subslide"
    }
   },
   "source": [
    "#### _The BB84 Protocol - Explanation_\n",
    "\n",
    "* In order to *obtain a* **_tensor product_** *between* **_two vectorial spaces_**, in this case, we have:<br><br>\n",
    "   \n",
    "   * $dim(a^{\\rightarrow} \\bigotimes b^{\\rightarrow}) = dim(a^{\\rightarrow}) \\times dim(b^{\\rightarrow}) = n \\times n$;"
   ]
  },
  {
   "cell_type": "markdown",
   "metadata": {
    "slideshow": {
     "slide_type": "subslide"
    }
   },
   "source": [
    "#### _The BB84 Protocol - Explanation_\n",
    "\n",
    "* In order to *obtain a* **_tensor product_** *between* **_two vectorial spaces_**, in this case, we have:<br><br>\n",
    "   \n",
    "   * *Where* $a^{\\rightarrow} \\bigotimes b^{\\rightarrow}$ *is a* **_vectorial space_** *in* $\\mathbb{R}^{n} \\times \\mathbb{R}^{n}$ *or*, *more precisely*, *in*  $(\\mathbb{R}^{n})^{2}$;"
   ]
  },
  {
   "cell_type": "markdown",
   "metadata": {
    "slideshow": {
     "slide_type": "subslide"
    }
   },
   "source": [
    "#### _The BB84 Protocol - Explanation_\n",
    "\n",
    "* Together, $a_{i}$ *and* $b_{i}$, *provide us an* **_index_** *for the following* **four Quantum States** *of a* **_qubit_** (**_Quantum Bit_**):<br>\n",
    "   1. $\\lvert \\Psi_{00} \\rangle = \\lvert 0 \\rangle$, *which is equivalent to the* **_Classical Bit Value of 0_** *(i.e.,* **_ground state_** *or* $\\uparrow$*)*;"
   ]
  },
  {
   "cell_type": "markdown",
   "metadata": {
    "slideshow": {
     "slide_type": "subslide"
    }
   },
   "source": [
    "#### _The BB84 Protocol - Explanation_\n",
    "\n",
    "* Together, $a_{i}$ *and* $b_{i}$, *provide us an* **_index_** *for the following* **four Quantum States** *of a* **_qubit_** (**_Quantum Bit_**):<br>\n",
    "   2. $\\lvert \\Psi_{10} \\rangle = \\lvert 1 \\rangle$, *which is equivalent to the* **_Classical Bit Value of 1_** *(i.e.,* **_excited state_** *or* $\\downarrow$*)*;"
   ]
  },
  {
   "cell_type": "markdown",
   "metadata": {
    "slideshow": {
     "slide_type": "subslide"
    }
   },
   "source": [
    "#### _The BB84 Protocol - Explanation_\n",
    "\n",
    "* Together, $a_{i}$ *and* $b_{i}$, *provide us an* **_index_** *for the following* **four Quantum States** *of a* **_qubit_** (**_Quantum Bit_**):<br>\n",
    "\n",
    "   3. $\\lvert \\Psi_{01} \\rangle = \\lvert + \\rangle = \\frac{1}{\\sqrt{2}} \\lvert 0 \\rangle + \\frac{1}{\\sqrt{2}} \\lvert 1 \\rangle$, *which is equivalente to a* **_Quantum Superposition of States_**, *based on the* **_positive X-axis_** *of the* **_Bloch Sphere_**;"
   ]
  },
  {
   "cell_type": "markdown",
   "metadata": {
    "slideshow": {
     "slide_type": "subslide"
    }
   },
   "source": [
    "#### _The BB84 Protocol - Explanation_\n",
    "\n",
    "* Together, $a_{i}$ *and* $b_{i}$, *provide us an* **_index_** *for the following* **four Quantum States** *of a* **_qubit_** (**_Quantum Bit_**):<br>\n",
    "   4. $\\lvert \\Psi_{11} \\rangle = \\lvert - \\rangle = \\frac{1}{\\sqrt{2}} \\lvert 0 \\rangle - \\frac{1}{\\sqrt{2}} \\lvert 1 \\rangle$, *which is equivalente to a* **_Quantum Superposition of States_**, *based on the* **_negative X-axis_** *of the* **_Bloch Sphere_**;"
   ]
  },
  {
   "cell_type": "markdown",
   "metadata": {
    "slideshow": {
     "slide_type": "subslide"
    }
   },
   "source": [
    "#### _The BB84 Protocol - Explanation_\n",
    "\n",
    "* Note that it is the **_bit_** $b_{i}$ *that decides in which* **_basis_**, *the* **_bit_** $a_{i}$ *is encoded* (*in a* **_Classical Computational Basis_** *or in a* **_Quantum Hadamard Basis_**, *i.e.*, *the basis of a* **_Quantum Superposition of States_**_)_."
   ]
  },
  {
   "cell_type": "markdown",
   "metadata": {
    "slideshow": {
     "slide_type": "subslide"
    }
   },
   "source": [
    "#### _The BB84 Protocol - Explanation_\n",
    "\n",
    "* So, the **_qubits_** (**_Quantum Bits_**) *are now in* **_Quantum States_** *which are* **_not mutually orthogonal_** and, *then*, *it is* **_impossible_** *to* **_distinguish all_** *of them with* **_certainty_** *without knowing* $b$."
   ]
  },
  {
   "cell_type": "markdown",
   "metadata": {
    "slideshow": {
     "slide_type": "subslide"
    }
   },
   "source": [
    "#### _The BB84 Protocol - Explanation_\n",
    "\n",
    "* Then, **_Rúben_** and **_Isabel_** send $\\lvert \\Psi \\rangle$ to **_Eleni_** *through a* **_Public_** *and* **_Authenticated Communication Channel_**, *which we can call* $\\varepsilon$, *per example*."
   ]
  },
  {
   "cell_type": "markdown",
   "metadata": {
    "slideshow": {
     "slide_type": "subslide"
    }
   },
   "source": [
    "#### _The BB84 Protocol - Explanation_\n",
    "\n",
    "* **_Eleni_** *receives a* **_Quantum State_** $\\varepsilon(p) = \\varepsilon(\\lvert \\Psi \\rangle \\langle \\Psi \\rvert)$, *where* $\\varepsilon$ *represents both the* **_noise effects_** *in the* **_Quantum Communication Channel_** *and the* **_attempts_** *of* **_accessing_** *or* **_eavesdropping_** *to the same*, *made by a third party*, *who can be* **_Legatheaux_**, *in this example*."
   ]
  },
  {
   "cell_type": "markdown",
   "metadata": {
    "slideshow": {
     "slide_type": "subslide"
    }
   },
   "source": [
    "#### _The BB84 Protocol - Explanation_\n",
    "\n",
    "* After **_Eleni_** *receive the string of* **_qubits_** (**_Quantum Bits_**), *all the three parties involved*, *namely*, **_Rúben/Isabel_**, **_Eleni_** *and* **_Legatheaux_**, *have their own* **_Quantum States_**."
   ]
  },
  {
   "cell_type": "markdown",
   "metadata": {
    "slideshow": {
     "slide_type": "subslide"
    }
   },
   "source": [
    "#### _The BB84 Protocol - Explanation_\n",
    "\n",
    "* However, *as only* **_Rúben_**/**_Isabel_** *know the real content of the string* $b$, *it becames virtually* **_impossible_** *to both* **_Eleni_** *and* **_Legatheaux_** *be able to* **_distinguish_** *the* **_Quantum States_** *of the* **_qubits_** (**_Quantum States_**)."
   ]
  },
  {
   "cell_type": "markdown",
   "metadata": {
    "slideshow": {
     "slide_type": "subslide"
    }
   },
   "source": [
    "#### _The BB84 Protocol - Explanation_\n",
    "\n",
    "* In the same way that, *after* **_Eleni_** *has received the* **_qubits_** (**_Quantum Bits_**), *it is known that* **_Legatheaux_** *could* **_not_** *have a copy of the* **_qubits_** (**_Quantum Bits_**) *sent*, *previously*, *through the* **_Quantum Communication Channel_**."
   ]
  },
  {
   "cell_type": "markdown",
   "metadata": {
    "slideshow": {
     "slide_type": "subslide"
    }
   },
   "source": [
    "#### _The BB84 Protocol - Explanation_\n",
    "\n",
    "* And this, *can be proved by the* **_No Cloning Theorem_** *which states*, *in this case*, *that* **_Legatheaux_** *could* **_only_** *have done it*, *if he had made* **_Quantum Measurements_** *on the* **_qubits_** (**_Quantum Bits_**);"
   ]
  },
  {
   "cell_type": "markdown",
   "metadata": {
    "slideshow": {
     "slide_type": "subslide"
    }
   },
   "source": [
    "#### _The BB84 Protocol - Explanation_\n",
    "\n",
    "* This action would *collapse the* **_Quantum System_**, as a whole, and then, *it would be possible to detect his attempt of* **_eavesdropping_** *on the* **_Quantum Communication Channel_**, *during the* **_key transmission_**."
   ]
  },
  {
   "cell_type": "markdown",
   "metadata": {
    "slideshow": {
     "slide_type": "subslide"
    }
   },
   "source": [
    "#### _The BB84 Protocol - Explanation_\n",
    "\n",
    "* The **_Quantum Measurements of States_** possible performed by **_Legatheaux_**, however, *are at risk of disturbing a particular* **_qubit_** (**_Quantum Bit_**) *with the probability of* $\\frac{1}{2}$ $(50\\%)$, *if he \"guess\" the* **_wrong basis_**, *during a* **_Quantum Measurement of States_**."
   ]
  },
  {
   "cell_type": "markdown",
   "metadata": {
    "slideshow": {
     "slide_type": "subslide"
    }
   },
   "source": [
    "#### _The BB84 Protocol - Explanation_\n",
    "\n",
    "* **_Eleni_**, then, *generates a string of* **_random bits_** $b$' *with the* **_same length_** *of* $b$ and after do it, **_measures_** *the string of* **_qubits_** (**_Quantum Bits_**) *she received from* **_Rúben_**/**_Isabel_**."
   ]
  },
  {
   "cell_type": "code",
   "execution_count": 2,
   "metadata": {},
   "outputs": [],
   "source": [
    "import qiskit"
   ]
  },
  {
   "cell_type": "code",
   "execution_count": 3,
   "metadata": {},
   "outputs": [
    {
     "data": {
      "text/plain": [
       "{'qiskit-terra': '0.12.0',\n",
       " 'qiskit-aer': '0.4.1',\n",
       " 'qiskit-ignis': '0.2.0',\n",
       " 'qiskit-ibmq-provider': '0.6.0',\n",
       " 'qiskit-aqua': '0.6.5',\n",
       " 'qiskit': '0.17.0'}"
      ]
     },
     "execution_count": 3,
     "metadata": {},
     "output_type": "execute_result"
    }
   ],
   "source": [
    "qiskit.__qiskit_version__"
   ]
  },
  {
   "cell_type": "code",
   "execution_count": 4,
   "metadata": {},
   "outputs": [],
   "source": [
    "# Importing standard Qiskit libraries and configuring account\n",
    "from qiskit import QuantumCircuit, QuantumRegister, ClassicalRegister, execute, BasicAer, Aer, IBMQ\n",
    "from qiskit.compiler import transpile, assemble\n",
    "from qiskit.tools.jupyter import *\n",
    "from qiskit.visualization import *"
   ]
  },
  {
   "cell_type": "code",
   "execution_count": 5,
   "metadata": {},
   "outputs": [],
   "source": [
    "import numpy as np"
   ]
  },
  {
   "cell_type": "code",
   "execution_count": 6,
   "metadata": {},
   "outputs": [],
   "source": [
    "# Importing the Matplotlib library\n",
    "%matplotlib inline"
   ]
  },
  {
   "cell_type": "code",
   "execution_count": 7,
   "metadata": {},
   "outputs": [],
   "source": [
    "num_qubits = 15"
   ]
  },
  {
   "cell_type": "code",
   "execution_count": 8,
   "metadata": {},
   "outputs": [],
   "source": [
    "ruben_and_isabel_quantum_register = QuantumRegister(num_qubits, name='ruben-isabel-qureg')\n",
    "ruben_and_isabel_classical_register = ClassicalRegister(num_qubits, name='ruben-isabel-clreg')"
   ]
  },
  {
   "cell_type": "code",
   "execution_count": 9,
   "metadata": {},
   "outputs": [],
   "source": [
    "ruben_and_isabel_quantum_circuit = QuantumCircuit(ruben_and_isabel_quantum_register, ruben_and_isabel_classical_register, name=\"Rúben's/Isabel's Quantum Circuit\")"
   ]
  },
  {
   "cell_type": "code",
   "execution_count": 10,
   "metadata": {},
   "outputs": [],
   "source": [
    "eleni_quantum_register = QuantumRegister(num_qubits, name='eleni-qureg')\n",
    "eleni_classical_register = ClassicalRegister(num_qubits, name='eleni-clreg')"
   ]
  },
  {
   "cell_type": "code",
   "execution_count": 11,
   "metadata": {},
   "outputs": [],
   "source": [
    "eleni_quantum_circuit = QuantumCircuit(eleni_quantum_register, eleni_classical_register, name=\"Eleni's Quantum Circuit\")"
   ]
  },
  {
   "cell_type": "code",
   "execution_count": 12,
   "metadata": {},
   "outputs": [],
   "source": [
    "legatheaux_quantum_register = QuantumRegister(num_qubits, name='legatheaux-qureg')\n",
    "legatheaux_classical_register = ClassicalRegister(num_qubits, name='legatheaux_clreg')"
   ]
  },
  {
   "cell_type": "code",
   "execution_count": 13,
   "metadata": {},
   "outputs": [],
   "source": [
    "legatheaux_quantum_circuit = QuantumCircuit(legatheaux_quantum_register, legatheaux_classical_register, name=\"Legatheaux's Quantum Circuit\")"
   ]
  },
  {
   "cell_type": "code",
   "execution_count": 14,
   "metadata": {},
   "outputs": [],
   "source": [
    "max_random_seed_ruben_and_isabel_secret_key = 2**num_qubits"
   ]
  },
  {
   "cell_type": "code",
   "execution_count": 15,
   "metadata": {},
   "outputs": [
    {
     "name": "stdout",
     "output_type": "stream",
     "text": [
      "The Maximum Random Seed of Rúben's/Isabel's Secret Key:\n"
     ]
    },
    {
     "data": {
      "text/plain": [
       "32768"
      ]
     },
     "execution_count": 15,
     "metadata": {},
     "output_type": "execute_result"
    }
   ],
   "source": [
    "print(\"The Maximum Random Seed of Rúben's/Isabel's Secret Key:\")\n",
    "max_random_seed_ruben_and_isabel_secret_key"
   ]
  },
  {
   "cell_type": "code",
   "execution_count": 16,
   "metadata": {},
   "outputs": [],
   "source": [
    "ruben_and_isabel_secret_key = np.random.randint(0, high = max_random_seed_ruben_and_isabel_secret_key)"
   ]
  },
  {
   "cell_type": "code",
   "execution_count": 17,
   "metadata": {},
   "outputs": [
    {
     "name": "stdout",
     "output_type": "stream",
     "text": [
      "Rúben's/Isabel's Secret Key:\n"
     ]
    },
    {
     "data": {
      "text/plain": [
       "25435"
      ]
     },
     "execution_count": 17,
     "metadata": {},
     "output_type": "execute_result"
    }
   ],
   "source": [
    "print(\"Rúben's/Isabel's Secret Key:\")\n",
    "ruben_and_isabel_secret_key"
   ]
  },
  {
   "cell_type": "code",
   "execution_count": 18,
   "metadata": {},
   "outputs": [],
   "source": [
    "ruben_and_isabel_secret_key_binary = np.binary_repr(ruben_and_isabel_secret_key, num_qubits)"
   ]
  },
  {
   "cell_type": "code",
   "execution_count": 19,
   "metadata": {},
   "outputs": [
    {
     "name": "stdout",
     "output_type": "stream",
     "text": [
      "Rúben's/Isabel's Secret Key, in binary format:\n"
     ]
    },
    {
     "data": {
      "text/plain": [
       "'110001101011011'"
      ]
     },
     "execution_count": 19,
     "metadata": {},
     "output_type": "execute_result"
    }
   ],
   "source": [
    "print(\"Rúben's/Isabel's Secret Key, in binary format:\")\n",
    "ruben_and_isabel_secret_key_binary"
   ]
  },
  {
   "cell_type": "code",
   "execution_count": 20,
   "metadata": {},
   "outputs": [],
   "source": [
    "# Encode the random Bits of the Rúben's/Isabel's Secret Key as Qubits\n",
    "# By default, the Qubits of the IBM's Quantum Circuit are all set to |0>, initially\n",
    "for ruben_and_isabel_secret_key_binary_index, ruben_and_isabel_secret_key_binary_value_digit in enumerate(ruben_and_isabel_secret_key_binary):\n",
    "    # If the Secret Key has a '1', in the current index, change it |1>\n",
    "    if ruben_and_isabel_secret_key_binary_value_digit == '1':\n",
    "        ruben_and_isabel_quantum_circuit.x(ruben_and_isabel_quantum_register[ruben_and_isabel_secret_key_binary_index])"
   ]
  },
  {
   "cell_type": "code",
   "execution_count": 21,
   "metadata": {},
   "outputs": [],
   "source": [
    "# The Rúben's/Isabel's Secret Key Polarisation Table\n",
    "ruben_and_isabel_secret_key_polarisation_table = []"
   ]
  },
  {
   "cell_type": "code",
   "execution_count": 22,
   "metadata": {},
   "outputs": [],
   "source": [
    "# Switch randomly about half qubits to diagonal basis\n",
    "for ruben_and_isabel_secret_key_index in range(len(ruben_and_isabel_quantum_register)):\n",
    "    \n",
    "    ruben_and_isabel_polarisation_axis = np.random.random()\n",
    "    \n",
    "    # Rectilinear Up/Down (↕) Polarised Photon/Qubit\n",
    "    if (ruben_and_isabel_polarisation_axis >= 0.0) and (ruben_and_isabel_polarisation_axis < 0.25):\n",
    "    \n",
    "        # Saves the Rectilinear Up/Down (↕) Polarised Photon/Qubit in\n",
    "        # the Rúben's/Isabel's Secret Key Polarisation Table\n",
    "        ruben_and_isabel_secret_key_polarisation_table.append(\"↕\")\n",
    "    \n",
    "    # Diagonal North East/South West (⤢) Polarised Photon/Qubit\n",
    "    elif (ruben_and_isabel_polarisation_axis >= 0.25) and (ruben_and_isabel_polarisation_axis < 0.5):   \n",
    "        \n",
    "        # Puts the current qubit in Quantum Superposition of States,\n",
    "        # using a Hadamard Quantum Logic Gate\n",
    "        ruben_and_isabel_quantum_circuit.h(ruben_and_isabel_quantum_register[ruben_and_isabel_secret_key_index])\n",
    "\n",
    "        # Saves the Diagonal North East/South West (⤢) Polarised Photon/Qubit in\n",
    "        # the Rúben's/Isabel's Secret Key Polarisation Table\n",
    "        ruben_and_isabel_secret_key_polarisation_table.append(\"⤢\")\n",
    "   \n",
    "    # Rectilinear Left/Right (↔) Polarised Photon/Qubit\n",
    "    elif (ruben_and_isabel_polarisation_axis >= 0.5) and (ruben_and_isabel_polarisation_axis < 0.75):\n",
    "    \n",
    "        # Saves the Rectilinear Left/Right (↔) Polarised Photon/Qubit in\n",
    "        # the Rúben's/Isabel's Secret Key Polarisation Table\n",
    "        ruben_and_isabel_secret_key_polarisation_table.append(\"↔\")\n",
    "    \n",
    "    # Rectilinear North West/South East (⤡) Polarised Photon/Qubit\n",
    "    else:\n",
    "        \n",
    "        # Puts the current qubit in Quantum Superposition of States,\n",
    "        # using a Hadamard Quantum Logic Gate\n",
    "        ruben_and_isabel_quantum_circuit.h(ruben_and_isabel_quantum_register[ruben_and_isabel_secret_key_index])\n",
    "        \n",
    "        # Saves the Rectilinear North West/South East (⤡) Polarised Photon/Qubit in\n",
    "        # the Rúben's/Isabel's Secret Key Polarisation Table\n",
    "        ruben_and_isabel_secret_key_polarisation_table.append(\"⤡\")"
   ]
  },
  {
   "cell_type": "code",
   "execution_count": 23,
   "metadata": {},
   "outputs": [
    {
     "name": "stdout",
     "output_type": "stream",
     "text": [
      "The Final Polarisation for Rúben's/Isabel's Secret Key is:\n"
     ]
    },
    {
     "data": {
      "text/plain": [
       "['↔', '⤢', '↕', '↔', '↔', '⤢', '↕', '⤡', '↔', '⤢', '↔', '↕', '⤢', '⤡', '⤡']"
      ]
     },
     "execution_count": 23,
     "metadata": {},
     "output_type": "execute_result"
    }
   ],
   "source": [
    "print(\"The Final Polarisation for Rúben's/Isabel's Secret Key is:\")\n",
    "ruben_and_isabel_secret_key_polarisation_table"
   ]
  },
  {
   "cell_type": "code",
   "execution_count": 24,
   "metadata": {},
   "outputs": [],
   "source": [
    "def send_quantum_state(quantum_circuit_sender, quantum_circuit_receiver, quantum_register_receiver):\n",
    "    \n",
    "    quantum_state_to_send = quantum_circuit_sender.qasm().split(sep=';')[4:-1]\n",
    "    \n",
    "    quantum_register_literal_offset = (len(quantum_circuit_sender.qregs[0].name) + 3)\n",
    "    \n",
    "    for qubit_index, quantum_logic_gate_instruction in enumerate(quantum_state_to_send):\n",
    "        \n",
    "        \n",
    "        quantum_state_to_send[qubit_index] = quantum_logic_gate_instruction.lstrip()\n",
    "        \n",
    "    for quantum_logic_gate_instruction in quantum_state_to_send:\n",
    "        \n",
    "        \n",
    "        if (quantum_logic_gate_instruction[0] == 'x'):\n",
    "            \n",
    "            quantum_register_sender_index = int(quantum_logic_gate_instruction[quantum_register_literal_offset:-1])\n",
    "            \n",
    "            \n",
    "            quantum_circuit_receiver.x(quantum_register_receiver[quantum_register_sender_index])\n",
    "       \n",
    "    \n",
    "        elif (quantum_logic_gate_instruction[0] == 'h'):\n",
    "            \n",
    "            quantum_register_sender_index = int(quantum_logic_gate_instruction[quantum_register_literal_offset:-1])\n",
    "            \n",
    "            \n",
    "            quantum_circuit_receiver.h(quantum_register_receiver[quantum_register_sender_index])\n",
    "       \n",
    "    \n",
    "        elif (quantum_logic_gate_instruction[0] == 'm'):\n",
    "            \n",
    "            pass\n",
    "      \n",
    "    \n",
    "        else:\n",
    "            \n",
    "            raise Exception('Unable to parse the Quantum Logic Gate Instruction...')"
   ]
  },
  {
   "cell_type": "code",
   "execution_count": 25,
   "metadata": {},
   "outputs": [],
   "source": [
    "send_quantum_state(ruben_and_isabel_quantum_circuit, eleni_quantum_circuit, eleni_quantum_register)"
   ]
  },
  {
   "cell_type": "code",
   "execution_count": 26,
   "metadata": {},
   "outputs": [
    {
     "data": {
      "image/png": "[encoded data removed]",
      "text/plain": [
       "<Figure size 493.64x987.28 with 1 Axes>"
      ]
     },
     "execution_count": 26,
     "metadata": {},
     "output_type": "execute_result"
    }
   ],
   "source": [
    "ruben_and_isabel_quantum_circuit.draw(output = \"mpl\")"
   ]
  },
  {
   "cell_type": "code",
   "execution_count": 27,
   "metadata": {},
   "outputs": [
    {
     "data": {
      "image/png": "[encoded data removed]",
      "text/plain": [
       "<Figure size 417.788x987.28 with 1 Axes>"
      ]
     },
     "execution_count": 27,
     "metadata": {},
     "output_type": "execute_result"
    }
   ],
   "source": [
    "eleni_quantum_circuit.draw(output = \"mpl\")"
   ]
  },
  {
   "cell_type": "code",
   "execution_count": 28,
   "metadata": {},
   "outputs": [],
   "source": [
    "# The Eleni's Secret Key Filtration for Measurement Table\n",
    "eleni_secret_key_filtration_measurement_table = []"
   ]
  },
  {
   "cell_type": "code",
   "execution_count": 29,
   "metadata": {},
   "outputs": [],
   "source": [
    "for eleni_secret_key_index in range(len(eleni_quantum_register)):\n",
    "    \n",
    "    eleni_filtration_measurement_axis = np.random.random()\n",
    "    \n",
    "    # Rectilinear Filter Up/Down/Left/Right (✛) for Measurement of a Polarised Photon/Qubit\n",
    "    if ( (eleni_filtration_measurement_axis >= 0.0) and (eleni_filtration_measurement_axis < 0.25) ) or ( (eleni_filtration_measurement_axis >= 0.5) and (eleni_filtration_measurement_axis < 0.75) ):\n",
    "    \n",
    "        # Saves the Rectilinear Filter Up/Down/Left/Right (✛) for Measumerement of a Polarised Photon/Qubit in\n",
    "        # the Eleni's Secret Key Filtration for Measurements Table\n",
    "        eleni_secret_key_filtration_measurement_table.append(\"✛\")\n",
    "    \n",
    "    # Diagonal North East/South West / North West/South East (✕) for Measurement of a Polarised Photon/Qubit\n",
    "    elif ( (eleni_filtration_measurement_axis >= 0.25) and (eleni_filtration_measurement_axis < 0.5) ) or ( (eleni_filtration_measurement_axis >= 0.75) and (eleni_filtration_measurement_axis <= 1.0) ):   \n",
    "        \n",
    "        # Puts the current qubit in Quantum Superposition of States,\n",
    "        # using a Hadamard Quantum Logic Gate\n",
    "        eleni_quantum_circuit.h(eleni_quantum_register[eleni_secret_key_index])\n",
    "\n",
    "        # Saves the Diagonal North East/South West / North West/South East (✕) for Measurement of a Polarised Photon/Qubit in\n",
    "        # the Eleni's Secret Key Polarisation Table\n",
    "        eleni_secret_key_filtration_measurement_table.append(\"✕\")"
   ]
  },
  {
   "cell_type": "code",
   "execution_count": 30,
   "metadata": {
    "scrolled": true
   },
   "outputs": [
    {
     "name": "stdout",
     "output_type": "stream",
     "text": [
      "The Final Filtration for Measuremnts for Eleni's Secret Key is:\n"
     ]
    },
    {
     "data": {
      "text/plain": [
       "['✕', '✕', '✛', '✕', '✛', '✛', '✕', '✕', '✕', '✕', '✕', '✛', '✕', '✕', '✛']"
      ]
     },
     "execution_count": 30,
     "metadata": {},
     "output_type": "execute_result"
    }
   ],
   "source": [
    "print(\"The Final Filtration for Measuremnts for Eleni's Secret Key is:\")\n",
    "eleni_secret_key_filtration_measurement_table"
   ]
  },
  {
   "cell_type": "code",
   "execution_count": 31,
   "metadata": {},
   "outputs": [],
   "source": [
    "# Measure all Qubits of the Eleni's Quantum Circuit\n",
    "for qubit_index in range(len(eleni_quantum_register)): \n",
    "    eleni_quantum_circuit.measure(eleni_quantum_register[qubit_index], eleni_classical_register[qubit_index])"
   ]
  },
  {
   "cell_type": "code",
   "execution_count": 32,
   "metadata": {},
   "outputs": [],
   "source": [
    "# Execute the Eleni's Quantum Circuit \n",
    "quantum_machine_backend = BasicAer.get_backend('qasm_simulator')    \n",
    "eleni_quantum_circuit_results = execute(eleni_quantum_circuit, backend = quantum_machine_backend, shots = 1).result()"
   ]
  },
  {
   "cell_type": "code",
   "execution_count": 33,
   "metadata": {},
   "outputs": [
    {
     "data": {
      "image/png": "[encoded data removed]",
      "text/plain": [
       "<Figure size 504x360 with 1 Axes>"
      ]
     },
     "execution_count": 33,
     "metadata": {},
     "output_type": "execute_result"
    }
   ],
   "source": [
    "plot_histogram( eleni_quantum_circuit_results.get_counts( eleni_quantum_circuit ) )"
   ]
  },
  {
   "cell_type": "code",
   "execution_count": 34,
   "metadata": {},
   "outputs": [],
   "source": [
    "# The results of the Quantum Measurement of States is Eleni's Secret Key Candidate\n",
    "eleni_secret_key_binary_reversed = list(eleni_quantum_circuit_results.get_counts(eleni_quantum_circuit))[0]"
   ]
  },
  {
   "cell_type": "code",
   "execution_count": 35,
   "metadata": {},
   "outputs": [],
   "source": [
    "# The Eleni's Secret Key is reversed so that\n",
    "# first Qubit is the first element of the list\n",
    "eleni_secret_key_binary = eleni_secret_key_binary_reversed[::-1]"
   ]
  },
  {
   "cell_type": "code",
   "execution_count": 36,
   "metadata": {},
   "outputs": [],
   "source": [
    "eleni_secret_key = int(eleni_secret_key_binary, 2)"
   ]
  },
  {
   "cell_type": "code",
   "execution_count": 37,
   "metadata": {},
   "outputs": [],
   "source": [
    "final_secret_key_qubits_to_keep = []\n",
    "final_secret_key_qubits_to_discard = []"
   ]
  },
  {
   "cell_type": "code",
   "execution_count": 38,
   "metadata": {},
   "outputs": [
    {
     "name": "stdout",
     "output_type": "stream",
     "text": [
      "Different basis choice for the qubit #0: \n",
      " - Basis chosen by Rúben/Isabel was: ↔; \n",
      " - Basis chosen by Eleni was: ✕; \n",
      "\n",
      "Same basis choice for the qubit #1: \n",
      " - Basis chosen by Rúben/Isabel was: ⤢; \n",
      " - Basis chosen by Eleni was: ✕; \n",
      "\n",
      "Same basis choice for the qubit #2: \n",
      " - Basis chosen by Rúben/Isabel was: ↕; \n",
      " - Basis chosen by Eleni was: ✛; \n",
      "\n",
      "Different basis choice for the qubit #3: \n",
      " - Basis chosen by Rúben/Isabel was: ↔; \n",
      " - Basis chosen by Eleni was: ✕; \n",
      "\n",
      "Same basis choice for the qubit #4: \n",
      " - Basis chosen by Rúben/Isabel was: ↔; \n",
      " - Basis chosen by Eleni was: ✛; \n",
      "\n",
      "Different basis choice for the qubit #5: \n",
      " - Basis chosen by Rúben/Isabel was: ⤢; \n",
      " - Basis chosen by Eleni was: ✛; \n",
      "\n",
      "Different basis choice for the qubit #6: \n",
      " - Basis chosen by Rúben/Isabel was: ↕; \n",
      " - Basis chosen by Eleni was: ✕; \n",
      "\n",
      "Same basis choice for the qubit #7: \n",
      " - Basis chosen by Rúben/Isabel was: ⤡; \n",
      " - Basis chosen by Eleni was: ✕; \n",
      "\n",
      "Different basis choice for the qubit #8: \n",
      " - Basis chosen by Rúben/Isabel was: ↔; \n",
      " - Basis chosen by Eleni was: ✕; \n",
      "\n",
      "Same basis choice for the qubit #9: \n",
      " - Basis chosen by Rúben/Isabel was: ⤢; \n",
      " - Basis chosen by Eleni was: ✕; \n",
      "\n",
      "Different basis choice for the qubit #10: \n",
      " - Basis chosen by Rúben/Isabel was: ↔; \n",
      " - Basis chosen by Eleni was: ✕; \n",
      "\n",
      "Same basis choice for the qubit #11: \n",
      " - Basis chosen by Rúben/Isabel was: ↕; \n",
      " - Basis chosen by Eleni was: ✛; \n",
      "\n",
      "Same basis choice for the qubit #12: \n",
      " - Basis chosen by Rúben/Isabel was: ⤢; \n",
      " - Basis chosen by Eleni was: ✕; \n",
      "\n",
      "Same basis choice for the qubit #13: \n",
      " - Basis chosen by Rúben/Isabel was: ⤡; \n",
      " - Basis chosen by Eleni was: ✕; \n",
      "\n",
      "Different basis choice for the qubit #14: \n",
      " - Basis chosen by Rúben/Isabel was: ⤡; \n",
      " - Basis chosen by Eleni was: ✛; \n",
      "\n"
     ]
    }
   ],
   "source": [
    "for final_secret_key_qubits_index, secret_key_quantum_state_basis in enumerate(zip(ruben_and_isabel_secret_key_polarisation_table, eleni_secret_key_filtration_measurement_table)):\n",
    "    if ( ( secret_key_quantum_state_basis[0] == \"↕\" or secret_key_quantum_state_basis[0] == \"↔\" ) and secret_key_quantum_state_basis[1] == \"✛\"):\n",
    "        print(\"Same basis choice for the qubit #{}: \".format(final_secret_key_qubits_index))\n",
    "        final_secret_key_qubits_to_keep.append(final_secret_key_qubits_index)\n",
    "    elif ( ( secret_key_quantum_state_basis[0] == \"⤢\" or secret_key_quantum_state_basis[0] == \"⤡\" ) and secret_key_quantum_state_basis[1] == \"✕\"):\n",
    "        print(\"Same basis choice for the qubit #{}: \".format(final_secret_key_qubits_index))\n",
    "        final_secret_key_qubits_to_keep.append(final_secret_key_qubits_index)\n",
    "    else:\n",
    "        print(\"Different basis choice for the qubit #{}: \".format(final_secret_key_qubits_index))\n",
    "        final_secret_key_qubits_to_discard.append(final_secret_key_qubits_index)\n",
    "        \n",
    "    print(\" - Basis chosen by Rúben/Isabel was: {}; \".format(secret_key_quantum_state_basis[0]))\n",
    "    print(\" - Basis chosen by Eleni was: {}; \\n\" .format(secret_key_quantum_state_basis[1]))       "
   ]
  },
  {
   "cell_type": "code",
   "execution_count": 39,
   "metadata": {},
   "outputs": [],
   "source": [
    "occasional_chance_accuracy = 0"
   ]
  },
  {
   "cell_type": "code",
   "execution_count": 40,
   "metadata": {},
   "outputs": [],
   "source": [
    "for secret_key_qubit in zip(ruben_and_isabel_secret_key_binary, eleni_secret_key_binary):\n",
    "    if ( secret_key_qubit[0] == secret_key_qubit[1] ):\n",
    "        occasional_chance_accuracy += 1"
   ]
  },
  {
   "cell_type": "code",
   "execution_count": 41,
   "metadata": {},
   "outputs": [
    {
     "name": "stdout",
     "output_type": "stream",
     "text": [
      "Percentage of Qubits to be discarded, according to Polarisation and Filtration for Measurements Tables comparison: \n",
      " - 0.5333333333333333 \n",
      "\n",
      "Measurement convergence (i.e., the percentage of Qubits, ocasionally, measured in the same basis), by additional occasional chance: \n",
      " - 0.6\n"
     ]
    }
   ],
   "source": [
    "print(\"Percentage of Qubits to be discarded, according to Polarisation and Filtration for Measurements Tables comparison: \\n - {} \\n\". format( ( len( final_secret_key_qubits_to_keep ) / num_qubits ) ) )\n",
    "print(\"Measurement convergence (i.e., the percentage of Qubits, ocasionally, measured in the same basis), by additional occasional chance: \\n - {}\" .format( ( occasional_chance_accuracy / num_qubits ) ) )"
   ]
  },
  {
   "cell_type": "code",
   "execution_count": 42,
   "metadata": {},
   "outputs": [],
   "source": [
    "ruben_and_isabel_final_secret_key_binary = [ruben_and_isabel_secret_key_binary[qubit_index] for qubit_index in final_secret_key_qubits_to_keep]\n",
    "eleni_final_secret_key_binary = [eleni_secret_key_binary[qubit_index] for qubit_index in final_secret_key_qubits_to_keep]"
   ]
  },
  {
   "cell_type": "code",
   "execution_count": 43,
   "metadata": {},
   "outputs": [],
   "source": [
    "final_accuracy_after_different_basis_discarded = 0"
   ]
  },
  {
   "cell_type": "code",
   "execution_count": 44,
   "metadata": {},
   "outputs": [],
   "source": [
    "for final_secret_key_qubit in zip(ruben_and_isabel_final_secret_key_binary, eleni_final_secret_key_binary):\n",
    "    if ( final_secret_key_qubit[0] == final_secret_key_qubit[1] ):\n",
    "        final_accuracy_after_different_basis_discarded += 1"
   ]
  },
  {
   "cell_type": "code",
   "execution_count": 45,
   "metadata": {},
   "outputs": [],
   "source": [
    "percentage_simlarity_final_secret_keys = final_accuracy_after_different_basis_discarded / len(ruben_and_isabel_final_secret_key_binary)"
   ]
  },
  {
   "cell_type": "code",
   "execution_count": 46,
   "metadata": {},
   "outputs": [
    {
     "name": "stdout",
     "output_type": "stream",
     "text": [
      "The Secret Key exchange seems to worked fine and be completely secure!!!\n",
      "Percentage of Similarity between the Rúben's/Isabel's and Eleni's Final Secret Key, after the Qubits measured in different basis: \n",
      " - 1.0\n"
     ]
    }
   ],
   "source": [
    "# NOTE: This should be always true, in a situation of no Eavesdropping and\n",
    "#       after discarding the Qubits measured in the different basis,\n",
    "#       i.e., the Percentage of Similarity between the Rúben's/Isabel's and Eleni's Final Secret Key,\n",
    "#       after the Qubits measured in different basis, should be strictly equal to 1.0 (100%)\n",
    "if (ruben_and_isabel_final_secret_key_binary == eleni_final_secret_key_binary) :\n",
    "    print(\"The Secret Key exchange seems to worked fine and be completely secure!!!\")\n",
    "    \n",
    "print(\"Percentage of Similarity between the Rúben's/Isabel's and Eleni's Final Secret Key, after the Qubits measured in different basis: \\n - {}\" .format( percentage_simlarity_final_secret_keys ) )"
   ]
  },
  {
   "cell_type": "code",
   "execution_count": 47,
   "metadata": {},
   "outputs": [
    {
     "name": "stdout",
     "output_type": "stream",
     "text": [
      "The Secret Key exchange has been successfull!!! \n",
      "\n",
      " - Rúben's/Isabel's Final Secret Key: \n",
      "  -  ['1', '0', '0', '0', '0', '1', '0', '1']\n",
      " - Eleni's Final Secret Key: \n",
      "  -  ['1', '0', '0', '0', '0', '1', '0', '1']\n"
     ]
    }
   ],
   "source": [
    "# The Secret Key wan't tampered and it's the same for both parties\n",
    "if (percentage_simlarity_final_secret_keys == 1):\n",
    "    print(\"The Secret Key exchange has been successfull!!! \\n\")\n",
    "    print(\" - Rúben's/Isabel's Final Secret Key: \\n  - \", ruben_and_isabel_final_secret_key_binary)\n",
    "    print(\" - Eleni's Final Secret Key: \\n  - \", eleni_final_secret_key_binary)\n",
    "else:\n",
    "    print(\"The Secret Key exchange has been tampered!!! \\n It's necessary to check for the existence of some Eavesdropper or try a new Secret Key exchange again...\\n\")\n",
    "    print(\" - Rúben's/Isabel's Final Secret Key: \\n  - \", ruben_and_isabel_final_secret_key_binary)\n",
    "    print(\" - Eleni's Final Secret Key: \\n  - \", eleni_final_secret_key_binary)"
   ]
  },
  {
   "cell_type": "code",
   "execution_count": 48,
   "metadata": {},
   "outputs": [],
   "source": [
    "send_quantum_state(ruben_and_isabel_quantum_circuit, legatheaux_quantum_circuit, legatheaux_quantum_register)"
   ]
  },
  {
   "cell_type": "code",
   "execution_count": 49,
   "metadata": {},
   "outputs": [],
   "source": [
    "legatheaux_secret_key_filtration_measurement_table = []"
   ]
  },
  {
   "cell_type": "code",
   "execution_count": 50,
   "metadata": {},
   "outputs": [],
   "source": [
    "for legatheaux_secret_key_index in range(len(legatheaux_quantum_register)):\n",
    "    \n",
    "    legatheaux_filtration_measurement_axis = np.random.random()\n",
    "    \n",
    "    # Rectilinear Filter Up/Down/Left/Right (✛) for Measurement of a Polarised Photon/Qubit\n",
    "    if ( (legatheaux_filtration_measurement_axis >= 0.0) and (legatheaux_filtration_measurement_axis < 0.25) ) or ( (legatheaux_filtration_measurement_axis >= 0.5) and (legatheaux_filtration_measurement_axis < 0.75) ):\n",
    "    \n",
    "        # Saves the Rectilinear Filter Up/Down/Left/Right (✛) for Measumerement of a Polarised Photon/Qubit in\n",
    "        # the Legatheaux's Secret Key Filtration for Measurements Table\n",
    "        legatheaux_secret_key_filtration_measurement_table.append(\"✛\")\n",
    "    \n",
    "    # Diagonal North East/South West / North West/South East (✕) for Measurement of a Polarised Photon/Qubit\n",
    "    elif ( (legatheaux_filtration_measurement_axis >= 0.25) and (legatheaux_filtration_measurement_axis < 0.5) ) or ( (legatheaux_filtration_measurement_axis >= 0.75) and (legatheaux_filtration_measurement_axis <= 1.0) ):   \n",
    "        \n",
    "        # Puts the current qubit in Quantum Superposition of States,\n",
    "        # using a Hadamard Quantum Logic Gate\n",
    "        legatheaux_quantum_circuit.h(legatheaux_quantum_register[legatheaux_secret_key_index])\n",
    "\n",
    "        # Saves the Diagonal North East/South West / North West/South East (✕) for Measurement of a Polarised Photon/Qubit in\n",
    "        # the Eleni's Secret Key Polarisation Table\n",
    "        legatheaux_secret_key_filtration_measurement_table.append(\"✕\")"
   ]
  },
  {
   "cell_type": "code",
   "execution_count": 51,
   "metadata": {},
   "outputs": [
    {
     "name": "stdout",
     "output_type": "stream",
     "text": [
      "The Final Filtration for Measuremnts for Legatheaux's Secret Key is:\n"
     ]
    },
    {
     "data": {
      "text/plain": [
       "['✛', '✕', '✕', '✛', '✛', '✕', '✕', '✕', '✛', '✛', '✛', '✕', '✛', '✛', '✕']"
      ]
     },
     "execution_count": 51,
     "metadata": {},
     "output_type": "execute_result"
    }
   ],
   "source": [
    "print(\"The Final Filtration for Measuremnts for Legatheaux's Secret Key is:\")\n",
    "legatheaux_secret_key_filtration_measurement_table"
   ]
  },
  {
   "cell_type": "code",
   "execution_count": 52,
   "metadata": {},
   "outputs": [],
   "source": [
    "# Measure all Qubits of the Legatheaux's Quantum Circuit\n",
    "for qubit_index in range(len(legatheaux_quantum_register)): \n",
    "    legatheaux_quantum_circuit.measure(legatheaux_quantum_register[qubit_index], legatheaux_classical_register[qubit_index])"
   ]
  },
  {
   "cell_type": "code",
   "execution_count": 53,
   "metadata": {},
   "outputs": [],
   "source": [
    "# Execute the Legatheaux's Quantum Circuit \n",
    "quantum_machine_backend = BasicAer.get_backend('qasm_simulator')    \n",
    "legatheaux_quantum_circuit_results = execute(legatheaux_quantum_circuit, backend = quantum_machine_backend, shots = 1).result()"
   ]
  },
  {
   "cell_type": "code",
   "execution_count": 54,
   "metadata": {},
   "outputs": [
    {
     "data": {
      "image/png": "[encoded data removed]",
      "text/plain": [
       "<Figure size 504x360 with 1 Axes>"
      ]
     },
     "execution_count": 54,
     "metadata": {},
     "output_type": "execute_result"
    }
   ],
   "source": [
    "plot_histogram( legatheaux_quantum_circuit_results.get_counts( legatheaux_quantum_circuit ) )"
   ]
  },
  {
   "cell_type": "code",
   "execution_count": 55,
   "metadata": {},
   "outputs": [],
   "source": [
    "# The results of the Quantum Measurement of States is Legatheaux's Secret Key Candidate\n",
    "legatheaux_secret_key_binary_reversed = list( legatheaux_quantum_circuit_results.get_counts( legatheaux_quantum_circuit ) )[0]"
   ]
  },
  {
   "cell_type": "code",
   "execution_count": 56,
   "metadata": {},
   "outputs": [],
   "source": [
    "# The Legatheaux's Secret Key is reversed so that\n",
    "# first Qubit is the first element of the list\n",
    "legatheaux_secret_key_binary = legatheaux_secret_key_binary_reversed[::-1]"
   ]
  },
  {
   "cell_type": "code",
   "execution_count": 57,
   "metadata": {},
   "outputs": [],
   "source": [
    "legatheaux_secret_key = int(legatheaux_secret_key_binary, 2)"
   ]
  },
  {
   "cell_type": "code",
   "execution_count": 58,
   "metadata": {},
   "outputs": [
    {
     "name": "stdout",
     "output_type": "stream",
     "text": [
      "Same basis choice for the qubit #0: \n",
      " - Basis chosen by Rúben/Isabel was: ↔; \n",
      " - Basis chosen by Legatheaux was: ✛; \n",
      "\n",
      "Same basis choice for the qubit #1: \n",
      " - Basis chosen by Rúben/Isabel was: ⤢; \n",
      " - Basis chosen by Legatheaux was: ✕; \n",
      "\n",
      "Different basis choice for the qubit #2: \n",
      " - Basis chosen by Rúben/Isabel was: ↕; \n",
      " - Basis chosen by Legatheaux was: ✕; \n",
      "\n",
      "Same basis choice for the qubit #3: \n",
      " - Basis chosen by Rúben/Isabel was: ↔; \n",
      " - Basis chosen by Legatheaux was: ✛; \n",
      "\n",
      "Same basis choice for the qubit #4: \n",
      " - Basis chosen by Rúben/Isabel was: ↔; \n",
      " - Basis chosen by Legatheaux was: ✛; \n",
      "\n",
      "Same basis choice for the qubit #5: \n",
      " - Basis chosen by Rúben/Isabel was: ⤢; \n",
      " - Basis chosen by Legatheaux was: ✕; \n",
      "\n",
      "Different basis choice for the qubit #6: \n",
      " - Basis chosen by Rúben/Isabel was: ↕; \n",
      " - Basis chosen by Legatheaux was: ✕; \n",
      "\n",
      "Same basis choice for the qubit #7: \n",
      " - Basis chosen by Rúben/Isabel was: ⤡; \n",
      " - Basis chosen by Legatheaux was: ✕; \n",
      "\n",
      "Same basis choice for the qubit #8: \n",
      " - Basis chosen by Rúben/Isabel was: ↔; \n",
      " - Basis chosen by Legatheaux was: ✛; \n",
      "\n",
      "Different basis choice for the qubit #9: \n",
      " - Basis chosen by Rúben/Isabel was: ⤢; \n",
      " - Basis chosen by Legatheaux was: ✛; \n",
      "\n",
      "Same basis choice for the qubit #10: \n",
      " - Basis chosen by Rúben/Isabel was: ↔; \n",
      " - Basis chosen by Legatheaux was: ✛; \n",
      "\n",
      "Different basis choice for the qubit #11: \n",
      " - Basis chosen by Rúben/Isabel was: ↕; \n",
      " - Basis chosen by Legatheaux was: ✕; \n",
      "\n",
      "Different basis choice for the qubit #12: \n",
      " - Basis chosen by Rúben/Isabel was: ⤢; \n",
      " - Basis chosen by Legatheaux was: ✛; \n",
      "\n",
      "Different basis choice for the qubit #13: \n",
      " - Basis chosen by Rúben/Isabel was: ⤡; \n",
      " - Basis chosen by Legatheaux was: ✛; \n",
      "\n",
      "Same basis choice for the qubit #14: \n",
      " - Basis chosen by Rúben/Isabel was: ⤡; \n",
      " - Basis chosen by Legatheaux was: ✕; \n",
      "\n"
     ]
    }
   ],
   "source": [
    "for final_secret_key_qubits_index, secret_key_quantum_state_basis in enumerate(zip(ruben_and_isabel_secret_key_polarisation_table, legatheaux_secret_key_filtration_measurement_table)):\n",
    "    if ( ( secret_key_quantum_state_basis[0] == \"↕\" or secret_key_quantum_state_basis[0] == \"↔\" ) and secret_key_quantum_state_basis[1] == \"✛\"):\n",
    "        print(\"Same basis choice for the qubit #{}: \".format(final_secret_key_qubits_index))\n",
    "    elif ( ( secret_key_quantum_state_basis[0] == \"⤢\" or secret_key_quantum_state_basis[0] == \"⤡\" ) and secret_key_quantum_state_basis[1] == \"✕\"):\n",
    "        print(\"Same basis choice for the qubit #{}: \".format(final_secret_key_qubits_index))\n",
    "    else:\n",
    "        print(\"Different basis choice for the qubit #{}: \".format(final_secret_key_qubits_index))\n",
    "\n",
    "        if ( ( secret_key_quantum_state_basis[0] == \"↕\" or secret_key_quantum_state_basis[0] == \"↔\" ) and secret_key_quantum_state_basis[1] == \"✕\") :\n",
    "            legatheaux_quantum_circuit.x( legatheaux_quantum_register[final_secret_key_qubits_index] )\n",
    "            legatheaux_quantum_circuit.h( legatheaux_quantum_register[final_secret_key_qubits_index] )\n",
    "        else:\n",
    "            legatheaux_quantum_circuit.h( legatheaux_quantum_register[final_secret_key_qubits_index] )\n",
    "            legatheaux_quantum_circuit.x( legatheaux_quantum_register[final_secret_key_qubits_index] )\n",
    "        \n",
    "    print(\" - Basis chosen by Rúben/Isabel was: {}; \".format(secret_key_quantum_state_basis[0]))\n",
    "    print(\" - Basis chosen by Legatheaux was: {}; \\n\" .format(secret_key_quantum_state_basis[1]))       "
   ]
  },
  {
   "cell_type": "code",
   "execution_count": 59,
   "metadata": {},
   "outputs": [],
   "source": [
    "send_quantum_state(legatheaux_quantum_circuit, eleni_quantum_circuit, eleni_quantum_register)"
   ]
  },
  {
   "cell_type": "code",
   "execution_count": 60,
   "metadata": {},
   "outputs": [],
   "source": [
    "# The Eleni's Secret Key Filtration for Measurement Table\n",
    "eleni_secret_key_filtration_measurement_table = []"
   ]
  },
  {
   "cell_type": "code",
   "execution_count": 61,
   "metadata": {},
   "outputs": [],
   "source": [
    "for eleni_secret_key_index in range(len(eleni_quantum_register)):\n",
    "    \n",
    "    eleni_filtration_measurement_axis = np.random.random()\n",
    "    \n",
    "    # Rectilinear Filter Up/Down/Left/Right (✛) for Measurement of a Polarised Photon/Qubit\n",
    "    if ( (eleni_filtration_measurement_axis >= 0.0) and (eleni_filtration_measurement_axis < 0.25) ) or ( (eleni_filtration_measurement_axis >= 0.5) and (eleni_filtration_measurement_axis < 0.75) ):\n",
    "    \n",
    "        # Saves the Rectilinear Filter Up/Down/Left/Right (✛) for Measumerement of a Polarised Photon/Qubit in\n",
    "        # the Eleni's Secret Key Filtration for Measurements Table\n",
    "        eleni_secret_key_filtration_measurement_table.append(\"✛\")\n",
    "    \n",
    "    # Diagonal North East/South West / North West/South East (✕) for Measurement of a Polarised Photon/Qubit\n",
    "    elif ( (eleni_filtration_measurement_axis >= 0.25) and (eleni_filtration_measurement_axis < 0.5) ) or ( (eleni_filtration_measurement_axis >= 0.75) and (eleni_filtration_measurement_axis <= 1.0) ):   \n",
    "        \n",
    "        # Puts the current qubit in Quantum Superposition of States,\n",
    "        # using a Hadamard Quantum Logic Gate\n",
    "        eleni_quantum_circuit.h(eleni_quantum_register[eleni_secret_key_index])\n",
    "\n",
    "        # Saves the Diagonal North East/South West / North West/South East (✕) for Measurement of a Polarised Photon/Qubit in\n",
    "        # the Eleni's Secret Key Polarisation Table\n",
    "        eleni_secret_key_filtration_measurement_table.append(\"✕\")"
   ]
  },
  {
   "cell_type": "code",
   "execution_count": 62,
   "metadata": {
    "scrolled": true
   },
   "outputs": [
    {
     "name": "stdout",
     "output_type": "stream",
     "text": [
      "The Final Filtration for Measuremnts for Eleni's Secret Key is:\n"
     ]
    },
    {
     "data": {
      "text/plain": [
       "['✕', '✕', '✛', '✕', '✛', '✕', '✕', '✛', '✕', '✕', '✛', '✕', '✕', '✛', '✛']"
      ]
     },
     "execution_count": 62,
     "metadata": {},
     "output_type": "execute_result"
    }
   ],
   "source": [
    "print(\"The Final Filtration for Measuremnts for Eleni's Secret Key is:\")\n",
    "eleni_secret_key_filtration_measurement_table"
   ]
  },
  {
   "cell_type": "code",
   "execution_count": 63,
   "metadata": {},
   "outputs": [],
   "source": [
    "# Measure all Qubits of the Eleni's Quantum Circuit\n",
    "for qubit_index in range(len(eleni_quantum_register)): \n",
    "    eleni_quantum_circuit.measure(eleni_quantum_register[qubit_index], eleni_classical_register[qubit_index])"
   ]
  },
  {
   "cell_type": "code",
   "execution_count": 64,
   "metadata": {},
   "outputs": [],
   "source": [
    "# Execute the Eleni's Quantum Circuit \n",
    "quantum_machine_backend = BasicAer.get_backend('qasm_simulator')    \n",
    "eleni_quantum_circuit_results = execute(eleni_quantum_circuit, backend = quantum_machine_backend, shots = 1).result()"
   ]
  },
  {
   "cell_type": "code",
   "execution_count": 65,
   "metadata": {},
   "outputs": [
    {
     "data": {
      "image/png": "[encoded data removed]",
      "text/plain": [
       "<Figure size 504x360 with 1 Axes>"
      ]
     },
     "execution_count": 65,
     "metadata": {},
     "output_type": "execute_result"
    }
   ],
   "source": [
    "plot_histogram( eleni_quantum_circuit_results.get_counts( eleni_quantum_circuit ) )"
   ]
  },
  {
   "cell_type": "code",
   "execution_count": 66,
   "metadata": {},
   "outputs": [],
   "source": [
    "# The results of the Quantum Measurement of States is Eleni's Secret Key Candidate\n",
    "eleni_secret_key_binary_reversed = list(eleni_quantum_circuit_results.get_counts(eleni_quantum_circuit))[0]"
   ]
  },
  {
   "cell_type": "code",
   "execution_count": 67,
   "metadata": {},
   "outputs": [],
   "source": [
    "# The Eleni's Secret Key is reversed so that\n",
    "# first Qubit is the first element of the list\n",
    "eleni_secret_key_binary = eleni_secret_key_binary_reversed[::-1]"
   ]
  },
  {
   "cell_type": "code",
   "execution_count": 68,
   "metadata": {},
   "outputs": [],
   "source": [
    "eleni_secret_key = int(eleni_secret_key_binary, 2)"
   ]
  },
  {
   "cell_type": "code",
   "execution_count": 69,
   "metadata": {},
   "outputs": [],
   "source": [
    "final_secret_key_qubits_to_keep = []\n",
    "final_secret_key_qubits_to_discard = []"
   ]
  },
  {
   "cell_type": "code",
   "execution_count": 70,
   "metadata": {},
   "outputs": [
    {
     "name": "stdout",
     "output_type": "stream",
     "text": [
      "Different basis choice for the qubit #0: \n",
      " - Basis chosen by Rúben/Isabel was: ↔; \n",
      " - Basis chosen by Eleni was: ✕; \n",
      "\n",
      "Same basis choice for the qubit #1: \n",
      " - Basis chosen by Rúben/Isabel was: ⤢; \n",
      " - Basis chosen by Eleni was: ✕; \n",
      "\n",
      "Same basis choice for the qubit #2: \n",
      " - Basis chosen by Rúben/Isabel was: ↕; \n",
      " - Basis chosen by Eleni was: ✛; \n",
      "\n",
      "Different basis choice for the qubit #3: \n",
      " - Basis chosen by Rúben/Isabel was: ↔; \n",
      " - Basis chosen by Eleni was: ✕; \n",
      "\n",
      "Same basis choice for the qubit #4: \n",
      " - Basis chosen by Rúben/Isabel was: ↔; \n",
      " - Basis chosen by Eleni was: ✛; \n",
      "\n",
      "Same basis choice for the qubit #5: \n",
      " - Basis chosen by Rúben/Isabel was: ⤢; \n",
      " - Basis chosen by Eleni was: ✕; \n",
      "\n",
      "Different basis choice for the qubit #6: \n",
      " - Basis chosen by Rúben/Isabel was: ↕; \n",
      " - Basis chosen by Eleni was: ✕; \n",
      "\n",
      "Different basis choice for the qubit #7: \n",
      " - Basis chosen by Rúben/Isabel was: ⤡; \n",
      " - Basis chosen by Eleni was: ✛; \n",
      "\n",
      "Different basis choice for the qubit #8: \n",
      " - Basis chosen by Rúben/Isabel was: ↔; \n",
      " - Basis chosen by Eleni was: ✕; \n",
      "\n",
      "Same basis choice for the qubit #9: \n",
      " - Basis chosen by Rúben/Isabel was: ⤢; \n",
      " - Basis chosen by Eleni was: ✕; \n",
      "\n",
      "Same basis choice for the qubit #10: \n",
      " - Basis chosen by Rúben/Isabel was: ↔; \n",
      " - Basis chosen by Eleni was: ✛; \n",
      "\n",
      "Different basis choice for the qubit #11: \n",
      " - Basis chosen by Rúben/Isabel was: ↕; \n",
      " - Basis chosen by Eleni was: ✕; \n",
      "\n",
      "Same basis choice for the qubit #12: \n",
      " - Basis chosen by Rúben/Isabel was: ⤢; \n",
      " - Basis chosen by Eleni was: ✕; \n",
      "\n",
      "Different basis choice for the qubit #13: \n",
      " - Basis chosen by Rúben/Isabel was: ⤡; \n",
      " - Basis chosen by Eleni was: ✛; \n",
      "\n",
      "Different basis choice for the qubit #14: \n",
      " - Basis chosen by Rúben/Isabel was: ⤡; \n",
      " - Basis chosen by Eleni was: ✛; \n",
      "\n"
     ]
    }
   ],
   "source": [
    "for final_secret_key_qubits_index, secret_key_quantum_state_basis in enumerate(zip(ruben_and_isabel_secret_key_polarisation_table, eleni_secret_key_filtration_measurement_table)):\n",
    "    if ( ( secret_key_quantum_state_basis[0] == \"↕\" or secret_key_quantum_state_basis[0] == \"↔\" ) and secret_key_quantum_state_basis[1] == \"✛\"):\n",
    "        print(\"Same basis choice for the qubit #{}: \".format(final_secret_key_qubits_index))\n",
    "        final_secret_key_qubits_to_keep.append(final_secret_key_qubits_index)\n",
    "    elif ( ( secret_key_quantum_state_basis[0] == \"⤢\" or secret_key_quantum_state_basis[0] == \"⤡\" ) and secret_key_quantum_state_basis[1] == \"✕\"):\n",
    "        print(\"Same basis choice for the qubit #{}: \".format(final_secret_key_qubits_index))\n",
    "        final_secret_key_qubits_to_keep.append(final_secret_key_qubits_index)\n",
    "    else:\n",
    "        print(\"Different basis choice for the qubit #{}: \".format(final_secret_key_qubits_index))\n",
    "        final_secret_key_qubits_to_discard.append(final_secret_key_qubits_index)\n",
    "        \n",
    "    print(\" - Basis chosen by Rúben/Isabel was: {}; \".format(secret_key_quantum_state_basis[0]))\n",
    "    print(\" - Basis chosen by Eleni was: {}; \\n\" .format(secret_key_quantum_state_basis[1]))       "
   ]
  },
  {
   "cell_type": "code",
   "execution_count": 71,
   "metadata": {},
   "outputs": [],
   "source": [
    "occasional_chance_accuracy = 0"
   ]
  },
  {
   "cell_type": "code",
   "execution_count": 72,
   "metadata": {},
   "outputs": [],
   "source": [
    "for secret_key_qubit in zip(ruben_and_isabel_secret_key_binary, eleni_secret_key_binary):\n",
    "    if ( secret_key_qubit[0] == secret_key_qubit[1] ):\n",
    "        occasional_chance_accuracy += 1"
   ]
  },
  {
   "cell_type": "code",
   "execution_count": 73,
   "metadata": {},
   "outputs": [
    {
     "name": "stdout",
     "output_type": "stream",
     "text": [
      "Percentage of Qubits to be discarded, according to Polarisation and Filtration for Measurements Tables comparison: \n",
      " - 0.4666666666666667 \n",
      "\n",
      "Measurement convergence (i.e., the percentage of Qubits, ocasionally, measured in the same basis), by additional occasional chance: \n",
      " - 0.6666666666666666\n"
     ]
    }
   ],
   "source": [
    "print(\"Percentage of Qubits to be discarded, according to Polarisation and Filtration for Measurements Tables comparison: \\n - {} \\n\". format( ( len( final_secret_key_qubits_to_keep ) / num_qubits ) ) )\n",
    "print(\"Measurement convergence (i.e., the percentage of Qubits, ocasionally, measured in the same basis), by additional occasional chance: \\n - {}\" .format( ( occasional_chance_accuracy / num_qubits ) ) )"
   ]
  },
  {
   "cell_type": "code",
   "execution_count": 74,
   "metadata": {},
   "outputs": [],
   "source": [
    "ruben_and_isabel_final_secret_key_binary = [ruben_and_isabel_secret_key_binary[qubit_index] for qubit_index in final_secret_key_qubits_to_keep]\n",
    "eleni_final_secret_key_binary = [eleni_secret_key_binary[qubit_index] for qubit_index in final_secret_key_qubits_to_keep]"
   ]
  },
  {
   "cell_type": "code",
   "execution_count": 75,
   "metadata": {},
   "outputs": [],
   "source": [
    "final_accuracy_after_different_basis_discarded = 0"
   ]
  },
  {
   "cell_type": "code",
   "execution_count": 76,
   "metadata": {},
   "outputs": [],
   "source": [
    "for final_secret_key_qubit in zip(ruben_and_isabel_final_secret_key_binary, eleni_final_secret_key_binary):\n",
    "    if ( final_secret_key_qubit[0] == final_secret_key_qubit[1] ):\n",
    "        final_accuracy_after_different_basis_discarded += 1"
   ]
  },
  {
   "cell_type": "code",
   "execution_count": 77,
   "metadata": {},
   "outputs": [],
   "source": [
    "percentage_simlarity_final_secret_keys = final_accuracy_after_different_basis_discarded / len(ruben_and_isabel_final_secret_key_binary)"
   ]
  },
  {
   "cell_type": "code",
   "execution_count": 78,
   "metadata": {},
   "outputs": [
    {
     "name": "stdout",
     "output_type": "stream",
     "text": [
      "Percentage of Similarity between the Rúben's/Isabel's and Eleni's Final Secret Key, after the Qubits measured in different basis: \n",
      " - 0.5714285714285714\n"
     ]
    }
   ],
   "source": [
    "# NOTE: This should can be true or false, in a situation of existence of Eavesdropping and\n",
    "#       after discarding the Qubits measured in the different basis,\n",
    "#       i.e., the Percentage of Similarity between the Rúben's/Isabel's and Eleni's Final Secret Key,\n",
    "#       after the Qubits measured in different basis, should be less than 1.0 (100%)\n",
    "if (ruben_and_isabel_final_secret_key_binary == eleni_final_secret_key_binary) :\n",
    "    print(\"The Secret Key exchange seems to worked fine and be completely secure!!!\")\n",
    "    \n",
    "print(\"Percentage of Similarity between the Rúben's/Isabel's and Eleni's Final Secret Key, after the Qubits measured in different basis: \\n - {}\" .format( percentage_simlarity_final_secret_keys ) )"
   ]
  },
  {
   "cell_type": "code",
   "execution_count": 79,
   "metadata": {},
   "outputs": [
    {
     "name": "stdout",
     "output_type": "stream",
     "text": [
      "The Secret Key exchange has been tampered!!! \n",
      " It's necessary to check for the existence of some Eavesdropper or try a new Secret Key exchange again...\n",
      "\n",
      " - Rúben's/Isabel's Final Secret Key: \n",
      "  -  ['1', '0', '0', '1', '0', '1', '0']\n",
      " - Eleni's Final Secret Key: \n",
      "  -  ['1', '0', '0', '0', '1', '0', '0']\n"
     ]
    }
   ],
   "source": [
    "# The Secret Key wan't tampered and it's the same for both parties\n",
    "if (percentage_simlarity_final_secret_keys == 1):\n",
    "    print(\"The Secret Key exchange has been successfull!!! \\n\")\n",
    "    print(\" - Rúben's/Isabel's Final Secret Key: \\n  - \", ruben_and_isabel_final_secret_key_binary)\n",
    "    print(\" - Eleni's Final Secret Key: \\n  - \", eleni_final_secret_key_binary)\n",
    "else:\n",
    "    print(\"The Secret Key exchange has been tampered!!! \\n It's necessary to check for the existence of some Eavesdropper or try a new Secret Key exchange again...\\n\")\n",
    "    print(\" - Rúben's/Isabel's Final Secret Key: \\n  - \", ruben_and_isabel_final_secret_key_binary)\n",
    "    print(\" - Eleni's Final Secret Key: \\n  - \", eleni_final_secret_key_binary)"
   ]
  }
 ],
 "metadata": {
  "celltoolbar": "Slideshow",
  "kernelspec": {
   "display_name": "Python 3",
   "language": "python",
   "name": "python3"
  },
  "language_info": {
   "codemirror_mode": {
    "name": "ipython",
    "version": 3
   },
   "file_extension": ".py",
   "mimetype": "text/x-python",
   "name": "python",
   "nbconvert_exporter": "python",
   "pygments_lexer": "ipython3",
   "version": "3.8.2"
  }
 },
 "nbformat": 4,
 "nbformat_minor": 2
}
